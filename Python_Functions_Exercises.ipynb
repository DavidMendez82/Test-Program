{
 "cells": [
  {
   "cell_type": "markdown",
   "id": "7735b130",
   "metadata": {},
   "source": [
    "# 🔹 Python Functions - Student Exercises\n",
    "### **Instructions:**\n",
    "- Complete each exercise by writing a function.\n",
    "- Use loops (`for`, `while`) and `if` conditions where necessary.\n",
    "- Test your functions with different inputs.\n"
   ]
  },
  {
   "cell_type": "markdown",
   "id": "a46ed94b",
   "metadata": {},
   "source": [
    "## **📌 Exercise 1: Temperature Converter**\n",
    "### **Task:**  \n",
    "Write a function `celsius_to_fahrenheit(celsius)` that converts a temperature from Celsius to Fahrenheit.\n",
    "\n",
    "### **Formula:**\n",
    "$\n",
    "F = \\left(\\frac{9}{5} \\times C\\right) + 32\n",
    "$\n",
    "\n",
    "### **Example Runs:**"
   ]
  },
  {
   "cell_type": "code",
   "execution_count": 56,
   "id": "bbe9f001",
   "metadata": {},
   "outputs": [
    {
     "name": "stdout",
     "output_type": "stream",
     "text": [
      "32.0\n",
      "77.0\n",
      "212.0\n"
     ]
    }
   ],
   "source": [
    "def celsius_to_fahrenheit(celsius):\n",
    "    fahrenheit =(9/5 * celsius) + 32\n",
    "    return fahrenheit\n",
    "\n",
    "# Test cases\n",
    "   \n",
    "print(celsius_to_fahrenheit(0))    # Expected: 32.0\n",
    "print(celsius_to_fahrenheit(25))  # Expected: 77.0\n",
    "print(celsius_to_fahrenheit(100)) # Expected: 212.0"
   ]
  },
  {
   "cell_type": "markdown",
   "id": "94f89d3d",
   "metadata": {},
   "source": [
    "## **📌 Exercise 2: Multiplication Table Generator**\n",
    "### **Task:**  \n",
    "Write a function `multiplication_table(n)` that prints the multiplication table for a number up to 10.\n",
    "\n",
    "### **Example Run:**"
   ]
  },
  {
   "cell_type": "code",
   "execution_count": 2,
   "id": "4c6204d4",
   "metadata": {},
   "outputs": [
    {
     "name": "stdout",
     "output_type": "stream",
     "text": [
      "5 x 1 = 5\n",
      "5 x 2 = 10\n",
      "5 x 3 = 15\n",
      "5 x 4 = 20\n",
      "5 x 5 = 25\n",
      "5 x 6 = 30\n",
      "5 x 7 = 35\n",
      "5 x 8 = 40\n",
      "5 x 9 = 45\n",
      "5 x 10 = 50\n"
     ]
    }
   ],
   "source": [
    "def multiplication_table (a):\n",
    "    for x in range(1 ,11):\n",
    "            print(f'{a} x {x} = {a*x}')\n",
    "\n",
    "# Test case\n",
    "multiplication_table(5)"
   ]
  },
  {
   "cell_type": "markdown",
   "id": "a89389f6",
   "metadata": {},
   "source": [
    "## **📌 Exercise 3: Check if a Number is Prime**\n",
    "### **Task:**  \n",
    "Write a function `is_prime(n)` that checks if a number `n` is prime. \n",
    "A prime number is a number greater than 1 that can only be divided by 1 and itself without leaving a remainder.\n",
    "\n",
    "### **Example Runs:**"
   ]
  },
  {
   "cell_type": "code",
   "execution_count": 55,
   "id": "bd6adc22",
   "metadata": {},
   "outputs": [
    {
     "name": "stdout",
     "output_type": "stream",
     "text": [
      "True\n",
      "False\n",
      "True\n"
     ]
    }
   ],
   "source": [
    "def is_prime(n):\n",
    "    for x in range(2,n):\n",
    "        if n % x == 0:\n",
    "            return False\n",
    "    return True\n",
    "\n",
    "# Test cases\n",
    "print(is_prime(7))  # Expected: True\n",
    "print(is_prime(10)) # Expected: False\n",
    "print(is_prime(2))  # Expected: True"
   ]
  },
  {
   "cell_type": "markdown",
   "id": "a2e3e0b9",
   "metadata": {},
   "source": [
    "## **📌 Exercise 4: Counting Digits in a Number**\n",
    "### **Task:**  \n",
    "Write a function `sum_of_digits(n)` that calculates the sum of all digits in a number.\n",
    "\n",
    "### **Example Runs:**"
   ]
  },
  {
   "cell_type": "code",
   "execution_count": null,
   "id": "cd153f16",
   "metadata": {},
   "outputs": [
    {
     "name": "stdout",
     "output_type": "stream",
     "text": [
      "3\n",
      "2\n",
      "1\n",
      "6\n",
      "7\n",
      "6\n",
      "5\n",
      "18\n",
      "9\n",
      "8\n",
      "17\n"
     ]
    }
   ],
   "source": [
    "def sum_of_digits(n):\n",
    "    sum = 0\n",
    "    while n > 0: \n",
    "        digit = n % 10  \n",
    "        sum += digit\n",
    "        print(f\"{digit}\")\n",
    "        n //= 10 \n",
    "    return sum\n",
    "    \n",
    "\n",
    "\n",
    "# Test cases\n",
    "print(sum_of_digits(123))   # Expected output: 6 (1 + 2 + 3)\n",
    "print(sum_of_digits(567))   # Expected output: 18 (5 + 6 + 7)\n",
    "print(sum_of_digits(89))    # Expected output: 17 (8 + 9)"
   ]
  },
  {
   "cell_type": "markdown",
   "id": "766bd367",
   "metadata": {},
   "source": [
    "## **📌 Exercise 5: Find the Greatest of Three Numbers**\n",
    "### **Task:**  \n",
    "Write a function `max_of_three(a, b, c)` that returns the largest of three numbers.\n",
    "\n",
    "### **Example Runs:**"
   ]
  },
  {
   "cell_type": "code",
   "execution_count": null,
   "id": "fd8d1f6c",
   "metadata": {},
   "outputs": [
    {
     "name": "stdout",
     "output_type": "stream",
     "text": [
      "20\n",
      "8\n",
      "-2\n"
     ]
    }
   ],
   "source": [
    "def max_of_three(number1,number2,number3):\n",
    "    if number1>number2 and number1 >number3:\n",
    "        return number1\n",
    "    elif number2>number1 and number2>number3:\n",
    "        return number2\n",
    "    else:\n",
    "        return number3\n",
    "\n",
    "\n",
    "# Test cases\n",
    "print(max_of_three(10, 20, 5))  # Expected: 20\n",
    "print(max_of_three(3, 8, 8))    # Expected: 8\n",
    "print(max_of_three(-5, -2, -10)) # Expected: -2"
   ]
  }
 ],
 "metadata": {
  "kernelspec": {
   "display_name": "Python 3",
   "language": "python",
   "name": "python3"
  },
  "language_info": {
   "codemirror_mode": {
    "name": "ipython",
    "version": 3
   },
   "file_extension": ".py",
   "mimetype": "text/x-python",
   "name": "python",
   "nbconvert_exporter": "python",
   "pygments_lexer": "ipython3",
   "version": "3.13.1"
  }
 },
 "nbformat": 4,
 "nbformat_minor": 5
}
