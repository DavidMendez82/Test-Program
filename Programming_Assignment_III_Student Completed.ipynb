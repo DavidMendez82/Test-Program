{
 "cells": [
  {
   "cell_type": "markdown",
   "id": "7b86ea8c",
   "metadata": {},
   "source": [
    "# 🐍 Programming Assignment III: Functions in Python\n",
    "\n",
    "**Instructions:**\n",
    "- Complete each of the five exercises by writing a function as described.\n",
    "- Do not modify the test cases provided.\n",
    "- Your function should produce the expected output shown in each example.\n",
    "- Use comments in your code and markdown blocks to explain your logic!!\n",
    "- Do not use global variables.\n",
    "- Run the notebook after completing each exercise to check your work and submit .html report to Canvas."
   ]
  },
  {
   "cell_type": "markdown",
   "id": "c72a7cd7",
   "metadata": {},
   "source": [
    "## Exercise 1: Even or Odd Counter\n",
    "Write a function `count_even_odd(numbers)` that takes a list of integers and returns the number of even and odd numbers."
   ]
  },
  {
   "cell_type": "code",
   "execution_count": 5,
   "id": "82e204af",
   "metadata": {},
   "outputs": [
    {
     "name": "stdout",
     "output_type": "stream",
     "text": [
      "(2, 3)\n",
      "(3, 0)\n"
     ]
    }
   ],
   "source": [
    "# TODO: Write your function here\n",
    "def count_even_odd(numbers): # here I am using a definition for all numbers in my range:\n",
    "    even_count = 0  # I am using this and the next step to creat two seperate coutners to zero\n",
    "    odd_count = 0\n",
    "    for numbers in numbers: # Using a for loop to set up the differences for odd and even. This is done by dividing the number by 2 if so then it is even. If not it is odd.\n",
    "        if numbers % 2 == 0:\n",
    "            even_count +=1\n",
    "        else:\n",
    "            odd_count += 1\n",
    "    return even_count, odd_count # This is what I want to see as an end result.\n",
    "# Test cases (do not modify)\n",
    "print(count_even_odd([1, 2, 3, 4, 5]))  # Expected: (2, 3)     # Your examples which are illustrated below. \n",
    "print(count_even_odd([2, 4, 6]))        # Expected: (3, 0)\n"
   ]
  },
  {
   "cell_type": "markdown",
   "id": "3527cc0f",
   "metadata": {},
   "source": [
    "## Exercise 2: City Temperature Tracker\n",
    "\n",
    "In this exercise, you’ll write a function that helps track and analyze city temperatures.\n",
    "\n",
    "### Your Task:\n",
    "Write a function called `analyze_temperatures(city, temps_in_f)` that takes:\n",
    "\n",
    "- `city`: a string representing the name of a city  \n",
    "- `temps_in_f`: a **list of numbers** representing daily temperatures in **Fahrenheit**\n",
    "\n",
    "Your function should:\n",
    "\n",
    "1. Convert each temperature in the list from **Fahrenheit to Celsius** using the formula:  \n",
    "   $ \n",
    "   C = (F - 32) \\times \\frac{5}{9}\n",
    "   $ \n",
    "\n",
    "2. Calculate:\n",
    "   - The **average** temperature in Celsius  \n",
    "   - The **highest** temperature in Celsius  \n",
    "   - The **lowest** temperature in Celsius  \n",
    "\n",
    "3. Print a sentence using this format:\n",
    "\n",
    "# TODO: Write your functions here\n",
    "# Test case (do not modify)\n",
    "analyze_temperatures(\"Berlin\", [70, 75, 80]) # Expected Output:\n",
    "# In Berlin, the average temperature was 23.9°C, with a high of 26.7°C and a low of 21.1°C."
   ]
  },
  {
   "cell_type": "code",
   "execution_count": 6,
   "id": "c266c84c",
   "metadata": {},
   "outputs": [
    {
     "name": "stdout",
     "output_type": "stream",
     "text": [
      "In Berlin, the average temperature was 23.9°C, with a high of 26.7°C and a low of 21.1°C.\n"
     ]
    }
   ],
   "source": [
    "def analyze_temperatures(city, temps_in_f): # This is to define the 2 arguements for inputs (The name ofd a city, and whatever number of temperature in °F )\n",
    "    temps_in_c = [(temp - 32) * (5 / 9) for temp in temps_in_f] # This is the formula to convert Fahrenheit to Celsius\n",
    "    \n",
    "    average_temp = sum(temps_in_c) / len(temps_in_c) # The next thre code components calculate the average temp, the highest temp of all temps, and the lowest temps of all temps in celsius\n",
    "    highest_temp = max(temps_in_c)\n",
    "    lowest_temp = min(temps_in_c)\n",
    "    \n",
    "    print(f\"In {city}, the average temperature was {average_temp:.1f}°C, \" \n",
    "          f\"with a high of {highest_temp:.1f}°C and a low of {lowest_temp:.1f}°C.\") # This part is the formulate statement for the variables inputed and bnroken down as requested. This is to be set to one decimal point by anotating the .1.\n",
    "\n",
    "\n",
    "# Test case (do not modify)\n",
    "analyze_temperatures(\"Berlin\", [70, 75, 80])  \n",
    "# Expected Output:\n",
    "# In Berlin, the average temperature was 23.9°C, with a high of 26.7°C and a low of 21.1°C."
   ]
  },
  {
   "cell_type": "markdown",
   "id": "f23b688f",
   "metadata": {},
   "source": [
    "## Exercise 3: Secret Code Encoder\n",
    "Write two functions:\n",
    "- `encode_message(message)` replaces vowels with symbols: a→@, e→3, i→!, o→0, u→#\n",
    "- `decode_message(encoded)` converts the symbols back to the original vowels."
   ]
  },
  {
   "cell_type": "code",
   "execution_count": 6,
   "id": "99b625c1",
   "metadata": {},
   "outputs": [
    {
     "name": "stdout",
     "output_type": "stream",
     "text": [
      "h3ll0 w0rld\n",
      "hello world\n"
     ]
    }
   ],
   "source": [
    "def encode_message(message): # This is used to define the encode message to be received. Then a list is built of the change of vowels to be coded.\n",
    "        vowel_mapping = {'a':'@','e':'3','i':'!','o':'0','u':'#'}  \n",
    "        encoded_message = \"\" # This allows a user to input anything as a statement\n",
    "    # Replace vowels in the message\n",
    "        for char in message:\n",
    "            encoded_message += vowel_mapping.get(char, char)  # Append the mapped value or the original character\n",
    "        return encoded_message\n",
    "\n",
    "def decode_message(encoded): # This is used to define the encode message to be received and reverse it to its original. The symbol list is built off the change of back to vowels.\n",
    "    reverse_mapping = {'@': 'a','3': 'e','!': 'i','0': 'o','#': 'u'}\n",
    "    decoded_message = \"\" # This allows a user to input anything as a statement    \n",
    "    for char in encoded:  # This is using character to replace symbols in the encoded message\n",
    "        decoded_message += reverse_mapping.get(char, char)  # Append the mapped value or the original character\n",
    "    \n",
    "    return decoded_message\n",
    "    # TODO: Write your functions here\n",
    "\n",
    "# Test cases (do not modify)\n",
    "print(encode_message(\"hello world\"))      # Expected: h3ll0 w0rld\n",
    "print(decode_message(\"h3ll0 w0rld\"))      # Expected: hello world\n"
   ]
  },
  {
   "cell_type": "markdown",
   "id": "e307b56b",
   "metadata": {},
   "source": [
    "## Exercise 4: Custom Calculator\n",
    "Write a function `custom_calculator(a, b, operation)` that performs the selected operation on two numbers.\n",
    "- Supported operations: 'add', 'subtract', 'multiply', 'divide'\n",
    "- Print the operation and result in a readable sentence.\n",
    "- Handle division by zero."
   ]
  },
  {
   "cell_type": "code",
   "execution_count": null,
   "id": "a82f882a",
   "metadata": {},
   "outputs": [
    {
     "name": "stdout",
     "output_type": "stream",
     "text": [
      "adding 5 and 3 gives 8\n",
      "dividing 10 by 2 gives 5.0\n",
      "Cannot divide by zero\n"
     ]
    }
   ],
   "source": [
    "def custom_calculator(a, b, operation): #This is to define a custom calcuator range of 3 variables, a, b, and operation as input arguements.\n",
    "    if operation == 'add': #Using an if elif component makes it easier to verify if you are adding(sum), taking away(subtraction), amplifying (multiplying), or dividing a set of numbers. There are parameters also to include a situation if dividing by 0 is not allowed.  \n",
    "        result = a + b\n",
    "        print(f\"adding {a} and {b} gives {result}\")\n",
    "    elif operation == 'subtract':\n",
    "        result = a - b\n",
    "        print(f\"subtracting {b} from {a} gives {result}\")\n",
    "    elif operation == 'multiply':\n",
    "        result = a * b\n",
    "        print(f\"multiplying {a} and {b} gives {result}\")\n",
    "    elif operation == 'divide':\n",
    "        if b == 0:\n",
    "            print(\"Cannot divide by zero\")\n",
    "        else:\n",
    "            result = a / b\n",
    "            print(f\"dividing {a} by {b} gives {result}\")    # This print is to illustrate each of our options in the loop that the number is added, subtracted, multiplied, or divided by. If it is divided by 0 then a statement is outputed to the user. \n",
    "    else:\n",
    "        print(\"Cannot divide by zero\")\n",
    "# TODO: Write your function here\n",
    "\n",
    "# Test cases (do not modify)\n",
    "# Expected: Adding 5 and 3 gives 8\n",
    "custom_calculator(5, 3, \"add\")\n",
    "\n",
    "# Expected: Dividing 10 by 2 gives 5.0\n",
    "custom_calculator(10, 2, \"divide\")\n",
    "\n",
    "# Expected: Cannot divide by zero\n",
    "custom_calculator(7, 0, \"divide\")"
   ]
  },
  {
   "cell_type": "markdown",
   "id": "f6c39e55",
   "metadata": {},
   "source": [
    "## Exercise 5: Silly Story Generator\n",
    "Write a function `generate_story(name, place, object, emotion)` that:\n",
    "- Capitalizes the first letter of the name (check capitalize() function in Python).\n",
    "- Converts the emotion to ALL CAPS\n",
    "- Returns a multi-line string using all inputs."
   ]
  },
  {
   "cell_type": "code",
   "execution_count": 7,
   "id": "1aa0f7e8",
   "metadata": {},
   "outputs": [
    {
     "name": "stdout",
     "output_type": "stream",
     "text": [
      "\n",
      "    One day, Lena went to the library with a banana in hand. Suddenly, they felt SURPRISE!!! It was the beginning of something unexpected...\n"
     ]
    }
   ],
   "source": [
    "def generate_story(name, place, object, emotion): # This is the definition to create inputs from a user for a name, place, object, and an emotion. \n",
    "    \n",
    "    capitalized_name = name.capitalize() # Here I am leaving the name to be capitalized with the first letter only being affected.\n",
    "    \n",
    "    \n",
    "    upper_emotion = emotion.upper() # THis is designed to have the whole emotion to be capitalized with every letter being affected.\n",
    "    \n",
    "    \n",
    "    story = f\"\"\"\n",
    "    One day, {capitalized_name} went to the {place} with a {object} in hand. Suddenly, they felt {upper_emotion}!!! It was the beginning of something unexpected...\"\"\"\n",
    "    # The part above creates a string that illustrates a story created with the requested vaiables inputs where they are designated.\n",
    "    return story\n",
    "\n",
    "# TODO: Write your function here\n",
    "\n",
    "# Test case (do not modify)\n",
    "# Expected:\n",
    "# One day, Lena went to library with a banana in hand.\n",
    "# Suddenly, they felt SURPRISE!!!.\n",
    "# It was the beginning of something unexpected...\n",
    "print(generate_story(\"lena\", \"library\", \"banana\", \"surprise\")) # This part is the requested inputs for the variable illustrated above. "
   ]
  }
 ],
 "metadata": {
  "kernelspec": {
   "display_name": "Python 3",
   "language": "python",
   "name": "python3"
  },
  "language_info": {
   "codemirror_mode": {
    "name": "ipython",
    "version": 3
   },
   "file_extension": ".py",
   "mimetype": "text/x-python",
   "name": "python",
   "nbconvert_exporter": "python",
   "pygments_lexer": "ipython3",
   "version": "3.13.1"
  }
 },
 "nbformat": 4,
 "nbformat_minor": 5
}
