{
 "cells": [
  {
   "cell_type": "markdown",
   "id": "5a62ff7c",
   "metadata": {},
   "source": [
    "# 🐍 ICE 4: Repetition Structures"
   ]
  },
  {
   "cell_type": "markdown",
   "id": "f582ee29",
   "metadata": {},
   "source": [
    "### Exercise 1: Counting Down (For Loop)\n",
    "\n",
    "Write a program that counts down from 10 to 1, then prints 'Blastoff!'"
   ]
  },
  {
   "cell_type": "code",
   "execution_count": 3,
   "id": "00bd6374",
   "metadata": {},
   "outputs": [
    {
     "name": "stdout",
     "output_type": "stream",
     "text": [
      "10\n",
      "9\n",
      "8\n",
      "7\n",
      "6\n",
      "5\n",
      "4\n",
      "3\n",
      "2\n",
      "1\n",
      "Blastoff!\n",
      "10\n",
      "9\n",
      "8\n",
      "7\n",
      "6\n",
      "5\n",
      "4\n",
      "3\n",
      "2\n",
      "1\n",
      "Blastoff!\n"
     ]
    }
   ],
   "source": [
    "for num in (10, 9, 8, 7, 6, 5, 4, 3, 2, 1):\n",
    "    print(num)\n",
    "print(\"Blastoff!\")\n",
    "\n",
    "for num in range (10, 0,-1):\n",
    "    print(num)\n",
    "print(\"Blastoff!\")"
   ]
  },
  {
   "cell_type": "markdown",
   "id": "ae003e24",
   "metadata": {},
   "source": [
    "### Exercise 2: Counting from 1 to N (For Loop)\n",
    "\n",
    "Write a program that asks the user for a number N and then prints numbers from 1 to N."
   ]
  },
  {
   "cell_type": "code",
   "execution_count": 22,
   "id": "76ee30fa",
   "metadata": {},
   "outputs": [
    {
     "name": "stdout",
     "output_type": "stream",
     "text": [
      "1\n",
      "2\n",
      "3\n",
      "4\n",
      "5\n"
     ]
    }
   ],
   "source": [
    "num= int(input(\"Please enter a number.\"))\n",
    "for X in range(1, num+1, 1):\n",
    "    print(X)"
   ]
  },
  {
   "cell_type": "markdown",
   "id": "1e107460",
   "metadata": {},
   "source": [
    "### Exercise 3: Sum of Numbers (While Loop & Running Total)\n",
    "\n",
    "Write a program that keeps asking the user for numbers until they enter 0. Then, print the sum of all entered numbers."
   ]
  },
  {
   "cell_type": "code",
   "execution_count": 43,
   "id": "3e19e122",
   "metadata": {},
   "outputs": [
    {
     "name": "stdout",
     "output_type": "stream",
     "text": [
      "5\n",
      "10\n",
      "15\n",
      "20\n",
      "25\n"
     ]
    }
   ],
   "source": [
    "total = 0\n",
    "num = int(input(\"Please enter a number to add.\"))\n",
    "while num != 0:\n",
    "    total += num\n",
    "    num= int(input(\"Add another number (or press 0 to exit\"))\n",
    "    print(total)"
   ]
  },
  {
   "cell_type": "markdown",
   "id": "bd0fbfe1",
   "metadata": {},
   "source": [
    "### Exercise 4: Even or Odd (While Loop & Input Validation)\n",
    "\n",
    "Write a program that asks the user for a positive number. If the number is negative, keep asking. Then, print whether it is even or odd."
   ]
  },
  {
   "cell_type": "code",
   "execution_count": 42,
   "id": "7aecf4e5",
   "metadata": {},
   "outputs": [
    {
     "name": "stdout",
     "output_type": "stream",
     "text": [
      "10 is even\n"
     ]
    }
   ],
   "source": [
    "x= int(input(\"provide a number\"))\n",
    "\n",
    "if x % 2 == 0:\n",
    "    print(f'{x} is even')\n",
    "else:\n",
    "    print(f'{x} is odd')"
   ]
  },
  {
   "cell_type": "markdown",
   "id": "e37d4753",
   "metadata": {},
   "source": [
    "### Exercise 5: Simple Multiplication Table (For Loop)\n",
    "\n",
    "Write a program that asks for a number and prints its multiplication table up to 10."
   ]
  },
  {
   "cell_type": "code",
   "execution_count": 46,
   "id": "f978ba37",
   "metadata": {},
   "outputs": [
    {
     "name": "stdout",
     "output_type": "stream",
     "text": [
      "9 x 1 = 9\n",
      "9 x 2 = 18\n",
      "9 x 3 = 27\n",
      "9 x 4 = 36\n",
      "9 x 5 = 45\n",
      "9 x 6 = 54\n",
      "9 x 7 = 63\n",
      "9 x 8 = 72\n",
      "9 x 9 = 81\n",
      "9 x 10 = 90\n"
     ]
    }
   ],
   "source": [
    "def table(num):\n",
    "    for x in range(1,11):\n",
    "        print(f\"{num} x {x} = {num * x}\")\n",
    "number= int(input(\"enter a number.\"))\n",
    "table(number)"
   ]
  },
  {
   "cell_type": "markdown",
   "id": "d3b90601",
   "metadata": {},
   "source": [
    "### Exercise 6: Password Validator (While Loop & Input Validation)\n",
    "\n",
    "Write a program that keeps asking for a password until the user enters 'python123'."
   ]
  },
  {
   "cell_type": "code",
   "execution_count": 52,
   "id": "d4e8d963",
   "metadata": {},
   "outputs": [],
   "source": [
    "password = \"\"\n",
    "while password != \"python123\":\n",
    "    password = input(\"Enter your password.\")\n"
   ]
  },
  {
   "cell_type": "markdown",
   "id": "b1bd41fc",
   "metadata": {},
   "source": [
    "### Exercise 7: Even or Odd in a List (For Loop)\n",
    "\n",
    "Write a program that iterates through a list of numbers [1,2,3,4,5,6,7,8,9,10] and prints whether each number is even or odd."
   ]
  },
  {
   "cell_type": "code",
   "execution_count": 74,
   "id": "ca5bf5f4",
   "metadata": {},
   "outputs": [
    {
     "name": "stdout",
     "output_type": "stream",
     "text": [
      "1 is odd\n",
      "2 is even\n",
      "3 is odd\n",
      "4 is even\n",
      "5 is odd\n",
      "6 is even\n",
      "7 is odd\n",
      "8 is even\n",
      "9 is odd\n",
      "10 is even\n"
     ]
    }
   ],
   "source": [
    "# this is how we create a list in python\n",
    "num= [\"1\", \"2\", \"3\", \"4\", \"5\", \"6\", \"7\", \"8\", \"9\", \"10\"] \n",
    "for x in range(1,11):\n",
    "    if int(x) % 2 == 0:\n",
    "        print(f'{x} is even')\n",
    "    else:\n",
    "        print(f'{x} is odd')"
   ]
  },
  {
   "cell_type": "markdown",
   "id": "91201366",
   "metadata": {},
   "source": [
    "### Exercise 8: Nested Loops - Multiplication Table\n",
    "\n",
    "Write a program that prints a multiplication table (1-5) using nested loops."
   ]
  },
  {
   "cell_type": "code",
   "execution_count": 76,
   "id": "55aafdaa",
   "metadata": {},
   "outputs": [
    {
     "name": "stdout",
     "output_type": "stream",
     "text": [
      "1 x 1 = 1\n",
      "1 x 2 = 2\n",
      "1 x 3 = 3\n",
      "1 x 4 = 4\n",
      "1 x 5 = 5\n",
      "2 x 1 = 2\n",
      "2 x 2 = 4\n",
      "2 x 3 = 6\n",
      "2 x 4 = 8\n",
      "2 x 5 = 10\n",
      "3 x 1 = 3\n",
      "3 x 2 = 6\n",
      "3 x 3 = 9\n",
      "3 x 4 = 12\n",
      "3 x 5 = 15\n",
      "4 x 1 = 4\n",
      "4 x 2 = 8\n",
      "4 x 3 = 12\n",
      "4 x 4 = 16\n",
      "4 x 5 = 20\n",
      "5 x 1 = 5\n",
      "5 x 2 = 10\n",
      "5 x 3 = 15\n",
      "5 x 4 = 20\n",
      "5 x 5 = 25\n"
     ]
    }
   ],
   "source": [
    "for a in range(1,6):\n",
    "    for b in range(1,6):\n",
    "        print(f'{a} x {b} = {a*b}')"
   ]
  }
 ],
 "metadata": {
  "kernelspec": {
   "display_name": "Python 3",
   "language": "python",
   "name": "python3"
  },
  "language_info": {
   "codemirror_mode": {
    "name": "ipython",
    "version": 3
   },
   "file_extension": ".py",
   "mimetype": "text/x-python",
   "name": "python",
   "nbconvert_exporter": "python",
   "pygments_lexer": "ipython3",
   "version": "3.13.1"
  }
 },
 "nbformat": 4,
 "nbformat_minor": 5
}
