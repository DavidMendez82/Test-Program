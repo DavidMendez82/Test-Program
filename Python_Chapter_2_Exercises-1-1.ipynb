{
 "cells": [
  {
   "cell_type": "markdown",
   "id": "9d1770ff",
   "metadata": {},
   "source": [
    "# 🐍 Python Chapter 2: In-Class Exercise \n",
    "\n",
    "## **Instructions**\n",
    "- Complete the following exercises by writing Python code in the provided cells.\n",
    "- Follow the instructions carefully and test your code.\n",
    "- If an error occurs, debug and correct it before moving on.\n",
    "- Run each cell to see the results.\n",
    "- Submit .html file to canvas\n",
    "---\n"
   ]
  },
  {
   "cell_type": "markdown",
   "id": "f6fb13c6",
   "metadata": {},
   "source": [
    "## **Exercise 1: Displaying Output**  \n",
    "Write a program that prints the following output using the `print()` function:  \n",
    "\n",
    "```\n",
    "Hello, Python!\n",
    "Welcome to programming.\n",
    "```  \n"
   ]
  },
  {
   "cell_type": "code",
   "execution_count": 6,
   "id": "5e145ea4",
   "metadata": {},
   "outputs": [
    {
     "name": "stdout",
     "output_type": "stream",
     "text": [
      "Hello, Python!\n",
      "Welcome to programming.\n"
     ]
    }
   ],
   "source": [
    "print(\"Hello, Python!\")\n",
    "print(\"Welcome to programming.\")"
   ]
  },
  {
   "cell_type": "markdown",
   "id": "ef095bf0",
   "metadata": {},
   "source": [
    "## **Exercise 2: User Input**  \n",
    "Write a program that asks the user for their name and age, then prints a message saying:  \n",
    "\n",
    "```\n",
    "Hello, [name]! You are [age] years old.\n",
    "```  \n"
   ]
  },
  {
   "cell_type": "code",
   "execution_count": 50,
   "id": "467ebabb",
   "metadata": {},
   "outputs": [
    {
     "ename": "TypeError",
     "evalue": "'str' object is not callable",
     "output_type": "error",
     "traceback": [
      "\u001b[1;31m---------------------------------------------------------------------------\u001b[0m",
      "\u001b[1;31mTypeError\u001b[0m                                 Traceback (most recent call last)",
      "Cell \u001b[1;32mIn[50], line 1\u001b[0m\n\u001b[1;32m----> 1\u001b[0m name \u001b[38;5;241m=\u001b[39m\u001b[38;5;28;43minput\u001b[39;49m\u001b[43m(\u001b[49m\u001b[38;5;124;43m\"\u001b[39;49m\u001b[38;5;124;43mWhat is your name\u001b[39;49m\u001b[38;5;124;43m\"\u001b[39;49m\u001b[43m)\u001b[49m\n\u001b[0;32m      2\u001b[0m age \u001b[38;5;241m=\u001b[39m\u001b[38;5;28mint\u001b[39m(\u001b[38;5;28minput\u001b[39m(\u001b[38;5;124m\"\u001b[39m\u001b[38;5;124mEnter your age\u001b[39m\u001b[38;5;124m\"\u001b[39m))\n\u001b[0;32m      3\u001b[0m \u001b[38;5;28mprint\u001b[39m(\u001b[38;5;124mf\u001b[39m\u001b[38;5;124m\"\u001b[39m\u001b[38;5;124mHello, \u001b[39m\u001b[38;5;132;01m{\u001b[39;00mname\u001b[38;5;132;01m}\u001b[39;00m\u001b[38;5;124m! You are, \u001b[39m\u001b[38;5;132;01m{\u001b[39;00mage\u001b[38;5;132;01m}\u001b[39;00m\u001b[38;5;124m years old.\u001b[39m\u001b[38;5;124m\"\u001b[39m)\n",
      "\u001b[1;31mTypeError\u001b[0m: 'str' object is not callable"
     ]
    }
   ],
   "source": [
    "name =input(\"What is your name\")\n",
    "age =int(input(\"Enter your age\"))\n",
    "print(f\"Hello, {name}! You are, {age} years old.\")"
   ]
  },
  {
   "cell_type": "markdown",
   "id": "3a388df3",
   "metadata": {},
   "source": [
    "## **Exercise 3: Performing Calculations**  \n",
    "Write a program that asks the user for two numbers and prints their sum, difference, and product.  \n"
   ]
  },
  {
   "cell_type": "code",
   "execution_count": 51,
   "id": "e1149b58",
   "metadata": {},
   "outputs": [
    {
     "name": "stdout",
     "output_type": "stream",
     "text": [
      "12 8 20\n"
     ]
    }
   ],
   "source": [
    "print ((10 + 2), (10 - 2), (10 * 2))\n"
   ]
  },
  {
   "cell_type": "code",
   "execution_count": null,
   "id": "8a88f29c",
   "metadata": {},
   "outputs": [],
   "source": []
  },
  {
   "cell_type": "markdown",
   "id": "9541d17c",
   "metadata": {},
   "source": [
    "## **Exercise 4: Variable Reassignment**  \n",
    "Write a program that assigns a number to a variable, prints it, then reassigns a new value and prints it again.\n"
   ]
  },
  {
   "cell_type": "code",
   "execution_count": 51,
   "id": "37861f47",
   "metadata": {},
   "outputs": [
    {
     "name": "stdout",
     "output_type": "stream",
     "text": [
      "Your deductions in pay are 600\n"
     ]
    }
   ],
   "source": [
    "# Assign value to a gross wage variable.\n",
    "grosswage = 3000\n",
    "\n",
    "# Assign a value of a net wage variable.\n",
    "netpay = 2400\n",
    "\n",
    "# Calculate the difference by subtracting net wage from gross wage. Assign the result ot pay.\n",
    "pay = grosswage - netpay\n",
    "\n",
    "# Display the difference in pay.\n",
    "print (\"Your deductions in pay are\", pay)\n",
    "\n"
   ]
  },
  {
   "cell_type": "markdown",
   "id": "ec27ebc8",
   "metadata": {},
   "source": [
    "## **Exercise 5: String Concatenation**  \n",
    "Write a program that asks for the user's first and last name separately, then prints their full name.\n"
   ]
  },
  {
   "cell_type": "code",
   "execution_count": 36,
   "id": "03122f62",
   "metadata": {},
   "outputs": [
    {
     "name": "stdout",
     "output_type": "stream",
     "text": [
      "David Mendez\n",
      "David Mendez2\n"
     ]
    }
   ],
   "source": [
    "name1 = input(\"What is your name?\")\n",
    "name2 = input(\"What is your name?\") \n",
    "print(name1, name2)\n",
    "\n",
    "first_name = input(\"Enter your first name: \")\n",
    "last_name = input(\"Enter your last name: \")\n",
    "print(first_name, last_name)\n"
   ]
  },
  {
   "cell_type": "markdown",
   "id": "0e920415",
   "metadata": {},
   "source": [
    "## **Exercise 6: Flow of Execution**  \n",
    "Write a program that first prints \"Start\", then waits for user input, and finally prints \"End\".\n"
   ]
  },
  {
   "cell_type": "code",
   "execution_count": 106,
   "id": "a0ea3b8b",
   "metadata": {},
   "outputs": [
    {
     "name": "stdout",
     "output_type": "stream",
     "text": [
      "a is less than 100\n"
     ]
    }
   ],
   "source": [
    "# Start\n",
    "a = 9\n",
    "if a>100:\n",
    "    print(\"a is great than 100\")\n",
    "else:print(\"a is less than 100\")     \n",
    "# End"
   ]
  },
  {
   "cell_type": "markdown",
   "id": "49bfeab3",
   "metadata": {},
   "source": [
    "## **Exercise 7: Using Named Constants**  \n",
    "Define a constant for the interest rate and use it to calculate the new balance after applying interest.  \n",
    "\n",
    "- Define a constant named `INTEREST_RATE` and set it to **5% (0.05)**.  \n",
    "- Ask the user to enter their **initial balance** as a floating-point number.  \n",
    "- Calculate the **new balance** using the formula:  \n",
    "\n",
    "  $ \\text{new\\_balance} = \\text{balance} \\times (1 + \\text{INTEREST\\_RATE}) $\n",
    "\n",
    "- Display the new balance result\n"
   ]
  },
  {
   "cell_type": "code",
   "execution_count": 225,
   "id": "9ad0fc04",
   "metadata": {},
   "outputs": [
    {
     "ename": "TypeError",
     "evalue": "'str' object is not callable",
     "output_type": "error",
     "traceback": [
      "\u001b[1;31m---------------------------------------------------------------------------\u001b[0m",
      "\u001b[1;31mTypeError\u001b[0m                                 Traceback (most recent call last)",
      "Cell \u001b[1;32mIn[225], line 3\u001b[0m\n\u001b[0;32m      1\u001b[0m \u001b[38;5;66;03m# Create a variable\u001b[39;00m\n\u001b[0;32m      2\u001b[0m initial_balance \u001b[38;5;241m=\u001b[39m \u001b[38;5;241m10000.00\u001b[39m\n\u001b[1;32m----> 3\u001b[0m \u001b[38;5;28;43mprint\u001b[39;49m\u001b[43m(\u001b[49m\u001b[38;5;124;43m'\u001b[39;49m\u001b[38;5;124;43mWhat is your\u001b[39;49m\u001b[38;5;124;43m'\u001b[39;49m\u001b[43m,\u001b[49m\u001b[43m \u001b[49m\u001b[38;5;124;43m'\u001b[39;49m\u001b[38;5;124;43minitial_balance\u001b[39;49m\u001b[38;5;124;43m'\u001b[39;49m\u001b[43m)\u001b[49m\n\u001b[0;32m      4\u001b[0m interest_rate \u001b[38;5;241m=\u001b[39m \u001b[38;5;241m0.05\u001b[39m\n\u001b[0;32m      5\u001b[0m amount\u001b[38;5;241m=\u001b[39m initial_balance \u001b[38;5;241m*\u001b[39m interest_rate\n",
      "\u001b[1;31mTypeError\u001b[0m: 'str' object is not callable"
     ]
    }
   ],
   "source": [
    "# Create a variable\n",
    "initial_balance = 10000.00\n",
    "print('What is your', 'initial_balance')\n",
    "interest_rate = 0.05\n",
    "amount= initial_balance * interest_rate\n",
    "print(amount)\n",
    "\n",
    "\n",
    "initial_balance = float('Enter your initial balance')\n"
   ]
  },
  {
   "cell_type": "code",
   "execution_count": null,
   "id": "10c8ba07",
   "metadata": {},
   "outputs": [],
   "source": []
  }
 ],
 "metadata": {
  "kernelspec": {
   "display_name": "Python 3",
   "language": "python",
   "name": "python3"
  },
  "language_info": {
   "codemirror_mode": {
    "name": "ipython",
    "version": 3
   },
   "file_extension": ".py",
   "mimetype": "text/x-python",
   "name": "python",
   "nbconvert_exporter": "python",
   "pygments_lexer": "ipython3",
   "version": "3.13.1"
  }
 },
 "nbformat": 4,
 "nbformat_minor": 5
}
