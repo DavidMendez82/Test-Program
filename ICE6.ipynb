{
 "cells": [
  {
   "cell_type": "markdown",
   "metadata": {},
   "source": [
    "# 🐍 ICE 6: Basic String Functions\n",
    "\n",
    "This notebook contains five in-class exercises (ICE) focusing on basic string functions such as `split()`, `lower()`, `upper()`, slicing, `strip()`, and `replace()`."
   ]
  },
  {
   "cell_type": "markdown",
   "metadata": {},
   "source": [
    "## ICE 1: Word Counter\n",
    "\n",
    "**Task:**\n",
    "- Prompt the user to enter a sentence.\n",
    "- Use the `split()` function to break the sentence into words.\n",
    "- Print the total number of words."
   ]
  },
  {
   "cell_type": "code",
   "execution_count": 36,
   "metadata": {},
   "outputs": [
    {
     "data": {
      "text/plain": [
       "9"
      ]
     },
     "execution_count": 36,
     "metadata": {},
     "output_type": "execute_result"
    }
   ],
   "source": [
    "input = \"How many words are in this? Try gettting this!\"\n",
    "len(input.split())"
   ]
  },
  {
   "cell_type": "markdown",
   "metadata": {},
   "source": [
    "## ICE 2: Case Conversion\n",
    "\n",
    "**Task:**\n",
    "- Define a string (for example, \"Hello World\").\n",
    "- Print the string in lowercase using and in uppercase using appropirate methods."
   ]
  },
  {
   "cell_type": "code",
   "execution_count": 33,
   "metadata": {},
   "outputs": [
    {
     "name": "stdout",
     "output_type": "stream",
     "text": [
      "hello world\n",
      "HELLO WORLD\n"
     ]
    }
   ],
   "source": [
    "my_string = \"Hello World\"\n",
    "print(my_string.lower())\n",
    "print(my_string.upper())\n"
   ]
  },
  {
   "cell_type": "markdown",
   "metadata": {},
   "source": [
    "## ICE 3: Substring Extractor\n",
    "\n",
    "**Task:**\n",
    "- Given a string variable, extract the first 5 characters and the last 5 characters using slicing.\n",
    "- If the string is shorter than 5 characters, print the string itself."
   ]
  },
  {
   "cell_type": "code",
   "execution_count": 41,
   "metadata": {},
   "outputs": [
    {
     "name": "stdout",
     "output_type": "stream",
     "text": [
      "What s now\n"
     ]
    }
   ],
   "source": [
    "def extract_first_last_chars(string):\n",
    "    if len(string) < 5:\n",
    "        return string\n",
    "    else:\n",
    "        return string[:5] + string[-5:]\n",
    "print(extract_first_last_chars(\"What happens now\"))"
   ]
  },
  {
   "cell_type": "markdown",
   "metadata": {},
   "source": [
    "## ICE 4: Name List Splitter\n",
    "\n",
    "**Task:**\n",
    "- Define a string containing names separated by commas (e.g., \"Alice, Bob, Charlie, Dana\").\n",
    "- Use `split()` method to convert the string into a list of names.\n",
    "- Print the resulting list."
   ]
  },
  {
   "cell_type": "code",
   "execution_count": 25,
   "metadata": {},
   "outputs": [
    {
     "data": {
      "text/plain": [
       "['Alice', ' Bob', ' Charlie', ' Dana']"
      ]
     },
     "execution_count": 25,
     "metadata": {},
     "output_type": "execute_result"
    }
   ],
   "source": [
    "names = \"Alice, Bob, Charlie, Dana\"\n",
    "names.split(',')\n"
   ]
  },
  {
   "cell_type": "markdown",
   "metadata": {},
   "source": [
    "## ICE 5: Character Replacement\n",
    "\n",
    "**Task:**\n",
    "- Prompt the user for a sentence.\n",
    "- Replace every occurrence of the letter `'a'` with `'@'` using the appropriate method.\n",
    "- Print the modified sentence."
   ]
  },
  {
   "cell_type": "code",
   "execution_count": null,
   "metadata": {},
   "outputs": [],
   "source": [
    "input(\"Enter a sentence please.\" )\n",
    "sentence =float(input(\"Enter a sentence please:\" ))\n",
    "modified_sentence = sentence.replace(\"a\", \"@\")\n",
    "print(\"Modified sentence:\", modified_sentence)"
   ]
  },
  {
   "cell_type": "code",
   "execution_count": null,
   "metadata": {},
   "outputs": [],
   "source": []
  }
 ],
 "metadata": {
  "kernelspec": {
   "display_name": "Python 3",
   "language": "python",
   "name": "python3"
  },
  "language_info": {
   "codemirror_mode": {
    "name": "ipython",
    "version": 3
   },
   "file_extension": ".py",
   "mimetype": "text/x-python",
   "name": "python",
   "nbconvert_exporter": "python",
   "pygments_lexer": "ipython3",
   "version": "3.13.1"
  }
 },
 "nbformat": 4,
 "nbformat_minor": 2
}
