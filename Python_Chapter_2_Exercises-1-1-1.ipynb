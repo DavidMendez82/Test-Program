{
 "cells": [
  {
   "cell_type": "markdown",
   "id": "9d1770ff",
   "metadata": {},
   "source": [
    "# 🐍 Python Chapter 2: In-Class Exercise \n",
    "\n",
    "## **Instructions**\n",
    "- Complete the following exercises by writing Python code in the provided cells.\n",
    "- Follow the instructions carefully and test your code.\n",
    "- If an error occurs, debug and correct it before moving on.\n",
    "- Run each cell to see the results.\n",
    "- Submit .ipynb file to canvas\n",
    "---\n"
   ]
  },
  {
   "cell_type": "markdown",
   "id": "f6fb13c6",
   "metadata": {},
   "source": [
    "## **Exercise 1: Displaying Output**  \n",
    "Write a program that prints the following output using the `print()` function:  \n",
    "\n",
    "```\n",
    "Hello, Python!\n",
    "Welcome to programming.\n",
    "```  \n"
   ]
  },
  {
   "cell_type": "code",
   "execution_count": 2,
   "id": "5e145ea4",
   "metadata": {},
   "outputs": [
    {
     "name": "stdout",
     "output_type": "stream",
     "text": [
      "Hello, Python!\n",
      "Welcome to programming.\n"
     ]
    }
   ],
   "source": [
    "print(\"Hello, Python!\")\n",
    "print(\"Welcome to programming.\")"
   ]
  },
  {
   "cell_type": "markdown",
   "id": "ef095bf0",
   "metadata": {},
   "source": [
    "## **Exercise 2: User Input**  \n",
    "Write a program that asks the user for their name and age, then prints a message saying:  \n",
    "\n",
    "```\n",
    "Hello, [name]! You are [age] years old.\n",
    "```  \n"
   ]
  },
  {
   "cell_type": "code",
   "execution_count": 29,
   "id": "467ebabb",
   "metadata": {},
   "outputs": [
    {
     "name": "stdout",
     "output_type": "stream",
     "text": [
      "Hello, Dv! You are, 33 years old.\n"
     ]
    }
   ],
   "source": [
    "name = input(\"What is your name\")\n",
    "age = int(input(\"Enter your age\"))\n",
    "print(f\"Hello, {name}! You are, {age} years old.\")\n"
   ]
  },
  {
   "cell_type": "markdown",
   "id": "3a388df3",
   "metadata": {},
   "source": [
    "## **Exercise 3: Performing Calculations**  \n",
    "Write a program that asks the user for two numbers and prints their sum, difference, and product.  \n"
   ]
  },
  {
   "cell_type": "code",
   "execution_count": 30,
   "id": "e1149b58",
   "metadata": {},
   "outputs": [
    {
     "name": "stdout",
     "output_type": "stream",
     "text": [
      "12 8 20\n"
     ]
    }
   ],
   "source": [
    "num1 = int(input(\"enter the first number:\"))\n",
    "num2 = int(input(\"Enter the second number:\"))\n",
    "print ((num1 + num2), (num1 - num2), (num1 * num2))\n"
   ]
  },
  {
   "cell_type": "markdown",
   "id": "9541d17c",
   "metadata": {},
   "source": [
    "## **Exercise 4: Variable Reassignment**  \n",
    "Write a program that assigns a number to a variable, prints it, then reassigns a new value and prints it again.\n"
   ]
  },
  {
   "cell_type": "code",
   "execution_count": 31,
   "id": "37861f47",
   "metadata": {},
   "outputs": [
    {
     "name": "stdout",
     "output_type": "stream",
     "text": [
      "10\n",
      "25\n"
     ]
    }
   ],
   "source": [
    "#Print a initial value to variable1\n",
    "variable1= 10\n",
    "print(variable1)\n",
    "# Reassign a new value to variable1\n",
    "variable1= 25\n",
    "print(variable1)"
   ]
  },
  {
   "cell_type": "markdown",
   "id": "ec27ebc8",
   "metadata": {},
   "source": [
    "## **Exercise 5: String Concatenation**  \n",
    "Write a program that asks for the user's first and last name separately, then prints their full name.\n"
   ]
  },
  {
   "cell_type": "code",
   "execution_count": 33,
   "id": "03122f62",
   "metadata": {},
   "outputs": [
    {
     "name": "stdout",
     "output_type": "stream",
     "text": [
      "David Mendez\n"
     ]
    }
   ],
   "source": [
    "first_name = input(\"enter yoyur first_name:\")\n",
    "last_name = input(\"enter yoyur last_name:\")\n",
    "print(first_name,last_name)"
   ]
  },
  {
   "cell_type": "markdown",
   "id": "0e920415",
   "metadata": {},
   "source": [
    "## **Exercise 6: Flow of Execution**  \n",
    "Write a program that first prints \"Start\", then waits for user input, and finally prints \"End\".\n"
   ]
  },
  {
   "cell_type": "code",
   "execution_count": 2,
   "id": "a0ea3b8b",
   "metadata": {},
   "outputs": [
    {
     "name": "stdout",
     "output_type": "stream",
     "text": [
      "Start\n",
      "End\n"
     ]
    }
   ],
   "source": [
    "print(\"Start\")\n",
    "input()\n",
    "print(\"End\")"
   ]
  },
  {
   "cell_type": "markdown",
   "id": "49bfeab3",
   "metadata": {},
   "source": [
    "## **Exercise 7: Using Named Constants**  \n",
    "Define a constant for the interest rate and use it to calculate the new balance after applying interest.  \n",
    "\n",
    "- Define a constant named `INTEREST_RATE` and set it to **5% (0.05)**.  \n",
    "- Ask the user to enter their **initial balance** as a floating-point number.  \n",
    "- Calculate the **new balance** using the formula:  \n",
    "\n",
    "  $ \\text{new\\_balance} = \\text{balance} \\times (1 + \\text{INTEREST\\_RATE}) $\n",
    "\n",
    "- Display the new balance result\n"
   ]
  },
  {
   "cell_type": "code",
   "execution_count": 41,
   "id": "9ad0fc04",
   "metadata": {},
   "outputs": [
    {
     "name": "stdout",
     "output_type": "stream",
     "text": [
      "525.0\n"
     ]
    }
   ],
   "source": [
    "INTEREST_RATE = 0.05\n",
    "initial_balance =float(input(\"Enter your initial_balance\"))\n",
    "balance = initial_balance * INTEREST_RATE\n",
    "new_balance =initial_balance *(1+INTEREST_RATE)\n",
    "print(new_balance) \n"
   ]
  },
  {
   "cell_type": "code",
   "execution_count": null,
   "id": "a0f99021",
   "metadata": {},
   "outputs": [],
   "source": []
  }
 ],
 "metadata": {
  "kernelspec": {
   "display_name": "Python 3",
   "language": "python",
   "name": "python3"
  },
  "language_info": {
   "codemirror_mode": {
    "name": "ipython",
    "version": 3
   },
   "file_extension": ".py",
   "mimetype": "text/x-python",
   "name": "python",
   "nbconvert_exporter": "python",
   "pygments_lexer": "ipython3",
   "version": "3.13.1"
  }
 },
 "nbformat": 4,
 "nbformat_minor": 5
}
