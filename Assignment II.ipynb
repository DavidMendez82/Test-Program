{
 "cells": [
  {
   "cell_type": "markdown",
   "id": "a97cd20f",
   "metadata": {},
   "source": [
    "# 🐍 Programming Assignment II: Repetition Structures"
   ]
  },
  {
   "cell_type": "markdown",
   "id": "3ed6c621",
   "metadata": {},
   "source": [
    "## Submission Instructions:\n",
    "- Complete all five exercises.\n",
    "- Ensure your code runs without errors.\n",
    "- Submit your .html file with clear comments explaining your logic.\n",
    "- Follow good programming practices such as meaningful variable names and proper indentation.\n",
    "\n",
    "Good luck! 🚀"
   ]
  },
  {
   "cell_type": "markdown",
   "id": "981ffebf",
   "metadata": {},
   "source": [
    "------------------------------------------------------------------------------------------------------------------------------------------------------------------------------------------------------------------------"
   ]
  },
  {
   "cell_type": "markdown",
   "id": "092911fe",
   "metadata": {},
   "source": [
    "## Exercise 1: Sum of Numbers Using a `for` Loop\n",
    "Write a program that asks the user for a **positive integer (n)** and then calculates the sum of all numbers from **1 to n** using a `for` loop.\n",
    "\n",
    "### Example Input:\n",
    "```\n",
    "Enter a positive integer: 5\n",
    "```\n",
    "### Example Output:\n",
    "```\n",
    "The sum of numbers from 1 to 5 is 15.\n",
    "```\n",
    "*(Explanation: 1 + 2 + 3 + 4 + 5 = 15)*"
   ]
  },
  {
   "cell_type": "code",
   "execution_count": 3,
   "id": "72c52698",
   "metadata": {},
   "outputs": [
    {
     "name": "stdout",
     "output_type": "stream",
     "text": [
      "The sum of numbers from 1 to 7 is 28\n"
     ]
    }
   ],
   "source": [
    "n= int(input(\"Enter a positive number:\"))\n",
    "sum_numbers = 0\n",
    "for i in range (1, n+1):\n",
    "    sum_numbers += i\n",
    "print(\"The sum of numbers from 1 to\", n, \"is\", sum_numbers)"
   ]
  },
  {
   "cell_type": "markdown",
   "id": "0d401f31",
   "metadata": {},
   "source": [
    "## Exercise 2 (15 points): Find the Largest Number Using a `for` Loop\n",
    "Write a program that asks the user to enter **5 numbers**, one at a time. After all numbers are entered, the program should display the **largest number**.\n",
    "\n",
    "### Example Input:\n",
    "```\n",
    "Enter number 1: 12\n",
    "Enter number 2: 45\n",
    "Enter number 3: 7\n",
    "Enter number 4: 89\n",
    "Enter number 5: 23\n",
    "```\n",
    "### Example Output:\n",
    "```\n",
    "The largest number is: 89\n",
    "```\n"
   ]
  },
  {
   "cell_type": "code",
   "execution_count": null,
   "id": "281667c3",
   "metadata": {},
   "outputs": [],
   "source": []
  },
  {
   "cell_type": "markdown",
   "id": "d2b4241f",
   "metadata": {},
   "source": [
    "## Exercise 3: Guess the Secret Number Using a `while` Loop\n",
    "1. Generate a **random number** between **1 and 100**.\n",
    "2. Ask the user to guess the number.\n",
    "3. If the guess is too high, print **\"Too high! Try again.\"**.\n",
    "4. If the guess is too low, print **\"Too low! Try again.\"**.\n",
    "5. If the guess is correct, print **\"Correct! You guessed it in X tries.\"**.\n",
    "6. Use a **while** loop to keep asking until they guess correctly.\n",
    "\n",
    "### Example Flow:\n",
    "```\n",
    "I'm thinking of a number between 1 and 100...\n",
    "Enter your guess: 50\n",
    "Too high! Try again.\n",
    "Enter your guess: 30\n",
    "Too low! Try again.\n",
    "Enter your guess: 42\n",
    "Correct! You guessed it in 3 tries.\n",
    "```"
   ]
  },
  {
   "cell_type": "code",
   "execution_count": null,
   "id": "f6bf8693",
   "metadata": {},
   "outputs": [],
   "source": []
  },
  {
   "cell_type": "markdown",
   "id": "68691580",
   "metadata": {},
   "source": [
    "## Exercise 4: Input Validation Using a `while` Loop\n",
    "Write a program that asks the user to enter a **positive number**. If the user enters a **negative number or zero**, the program should keep asking until they enter a valid number.\n",
    "\n",
    "### Example Input & Output:\n",
    "```\n",
    "Enter a positive number: -5\n",
    "Invalid! Please enter a positive number.\n",
    "Enter a positive number: 0\n",
    "Invalid! Please enter a positive number.\n",
    "Enter a positive number: 8\n",
    "You entered: 8\n",
    "```\n"
   ]
  },
  {
   "cell_type": "code",
   "execution_count": null,
   "id": "368bb661",
   "metadata": {},
   "outputs": [],
   "source": []
  },
  {
   "cell_type": "markdown",
   "id": "690e45da",
   "metadata": {},
   "source": [
    "## Exercise 5: Count Even and Odd Numbers Using a `for` Loop\n",
    "Write a program that asks the user to enter **a sequence of numbers (separated by spaces)**. The program should count how many numbers are **even** and how many are **odd**.\n",
    "\n",
    "### Example Input:\n",
    "```\n",
    "Enter numbers: 10 15 22 33 40 57 60\n",
    "```\n",
    "### Example Output:\n",
    "```\n",
    "Even numbers: 4\n",
    "Odd numbers: 3\n",
    "```\n"
   ]
  },
  {
   "cell_type": "code",
   "execution_count": null,
   "id": "83dfeaae",
   "metadata": {},
   "outputs": [],
   "source": []
  }
 ],
 "metadata": {
  "kernelspec": {
   "display_name": "Python 3",
   "language": "python",
   "name": "python3"
  },
  "language_info": {
   "codemirror_mode": {
    "name": "ipython",
    "version": 3
   },
   "file_extension": ".py",
   "mimetype": "text/x-python",
   "name": "python",
   "nbconvert_exporter": "python",
   "pygments_lexer": "ipython3",
   "version": "3.13.1"
  }
 },
 "nbformat": 4,
 "nbformat_minor": 5
}
