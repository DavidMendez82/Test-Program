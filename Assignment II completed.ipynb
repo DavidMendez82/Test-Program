{
 "cells": [
  {
   "cell_type": "markdown",
   "id": "a97cd20f",
   "metadata": {},
   "source": [
    "# 🐍 Programming Assignment II: Repetition Structures"
   ]
  },
  {
   "cell_type": "markdown",
   "id": "3ed6c621",
   "metadata": {},
   "source": [
    "## Submission Instructions:\n",
    "- Complete all five exercises.\n",
    "- Ensure your code runs without errors.\n",
    "- Submit your .html file with clear comments explaining your logic.\n",
    "- Follow good programming practices such as meaningful variable names and proper indentation.\n",
    "\n",
    "Good luck! 🚀"
   ]
  },
  {
   "cell_type": "markdown",
   "id": "981ffebf",
   "metadata": {},
   "source": [
    "------------------------------------------------------------------------------------------------------------------------------------------------------------------------------------------------------------------------"
   ]
  },
  {
   "cell_type": "markdown",
   "id": "092911fe",
   "metadata": {},
   "source": [
    "## Exercise 1: Sum of Numbers Using a `for` Loop\n",
    "Write a program that asks the user for a **positive integer (n)** and then calculates the sum of all numbers from **1 to n** using a `for` loop.\n",
    "\n",
    "### Example Input:\n",
    "```\n",
    "Enter a positive integer: 5\n",
    "```\n",
    "### Example Output:\n",
    "```\n",
    "The sum of numbers from 1 to 5 is 15.\n",
    "```\n",
    "*(Explanation: 1 + 2 + 3 + 4 + 5 = 15)*"
   ]
  },
  {
   "cell_type": "code",
   "execution_count": null,
   "id": "72c52698",
   "metadata": {},
   "outputs": [
    {
     "name": "stdout",
     "output_type": "stream",
     "text": [
      "The sum of numbers from 1 to 7 is 28\n"
     ]
    }
   ],
   "source": [
    "n= int(input(\"Enter a positive number:\")) #Here I am asking the user for an integer\n",
    "sum_numbers = 0\n",
    "for i in range (1, n+1): # Here is the index for the range of 1 plus however more than the first one entered to use\n",
    "    sum_numbers += i # This add the total number of numbers value to generate a sum of the amount such as the explanation shown in the instructions\n",
    "print(\"The sum of numbers from 1 to\", n, \"is\", sum_numbers) # this prints the output of the request information to suffice the exercise question output."
   ]
  },
  {
   "cell_type": "markdown",
   "id": "0d401f31",
   "metadata": {},
   "source": [
    "## Exercise 2 (15 points): Find the Largest Number Using a `for` Loop\n",
    "Write a program that asks the user to enter **5 numbers**, one at a time. After all numbers are entered, the program should display the **largest number**.\n",
    "\n",
    "### Example Input:\n",
    "```\n",
    "Enter number 1: 12\n",
    "Enter number 2: 45\n",
    "Enter number 3: 7\n",
    "Enter number 4: 89\n",
    "Enter number 5: 23\n",
    "```\n",
    "### Example Output:\n",
    "```\n",
    "The largest number is: 89\n",
    "```\n"
   ]
  },
  {
   "cell_type": "code",
   "execution_count": null,
   "id": "0b5d59d2",
   "metadata": {},
   "outputs": [
    {
     "name": "stdout",
     "output_type": "stream",
     "text": [
      "The largest number is 66\n"
     ]
    }
   ],
   "source": [
    "list=[] # This is build a list of the integers a user is allowed to input a\n",
    "for i in range (5): # the index and range for the number of integers asked for is set to five here\n",
    "    x = int(input(\"Enter number\")) # This line is to gather input from the user limited by the range index above\n",
    "    list.append(x) # Here I am using append to change the format of the list originally used from the 1st line.\n",
    "print(f\"The largest number is {max(list)}\") # This is the final result that is outputted to complete the exercise. It tells the computer to print the largest number of all those entered by the user.\n",
    "\n"
   ]
  },
  {
   "cell_type": "markdown",
   "id": "d2b4241f",
   "metadata": {},
   "source": [
    "## Exercise 3: Guess the Secret Number Using a `while` Loop\n",
    "1. Generate a **random number** between **1 and 100**.\n",
    "2. Ask the user to guess the number.\n",
    "3. If the guess is too high, print **\"Too high! Try again.\"**.\n",
    "4. If the guess is too low, print **\"Too low! Try again.\"**.\n",
    "5. If the guess is correct, print **\"Correct! You guessed it in X tries.\"**.\n",
    "6. Use a **while** loop to keep asking until they guess correctly.\n",
    "\n",
    "### Example Flow:\n",
    "```\n",
    "I'm thinking of a number between 1 and 100...\n",
    "Enter your guess: 50\n",
    "Too high! Try again.\n",
    "Enter your guess: 30\n",
    "Too low! Try again.\n",
    "Enter your guess: 42\n",
    "Correct! You guessed it in 3 tries.\n",
    "```"
   ]
  },
  {
   "cell_type": "code",
   "execution_count": null,
   "id": "f6bf8693",
   "metadata": {},
   "outputs": [
    {
     "name": "stdout",
     "output_type": "stream",
     "text": [
      "Too high! Try again.\n",
      "Too low! Try again.\n",
      "Too low! Try again.\n",
      "Too high! Try again.\n",
      "Correct! You guessed it in 5 tries.\n"
     ]
    }
   ],
   "source": [
    "import random  # Importing random to use in the line below is necessary to use the random number generator library\n",
    "\n",
    "number = random.randint(1, 100) # Here I am using the two arguements to set boundaries for a number to be randomly select between 1 and 100 by the program.\n",
    "guess = 0 # Both guess and attempts below are to set that it will account for each time a user tries to correctly guess the randomized number. \n",
    "attempts = 0\n",
    "while guess != number: # The while loop is used to allow the member to see where their number they selected is in reference to the number randomly generated. If the user number is high it will print that it is too high as well as if it is low it will print the number is too low.\n",
    "    guess = int(input(\"Guess the number between 1 and 100.\"))\n",
    "    attempts += 1\n",
    "    if guess < number:\n",
    "        print(\"Too low! Try again.\")\n",
    "    elif guess > number:\n",
    "        print(\"Too high! Try again.\")\n",
    "    else:\n",
    "        print(f\"Correct! You guessed it in {attempts} tries.\") # When the person correctly guess the randomized number the output will show they guess it correctly and the formula is to tally the sum of the number of attempts it took the person to correctly guess that number."
   ]
  },
  {
   "cell_type": "markdown",
   "id": "68691580",
   "metadata": {},
   "source": [
    "## Exercise 4: Input Validation Using a `while` Loop\n",
    "Write a program that asks the user to enter a **positive number**. If the user enters a **negative number or zero**, the program should keep asking until they enter a valid number.\n",
    "\n",
    "### Example Input & Output:\n",
    "```\n",
    "Enter a positive number: -5\n",
    "Invalid! Please enter a positive number.\n",
    "Enter a positive number: 0\n",
    "Invalid! Please enter a positive number.\n",
    "Enter a positive number: 8\n",
    "You entered: 8\n",
    "```\n"
   ]
  },
  {
   "cell_type": "code",
   "execution_count": null,
   "id": "368bb661",
   "metadata": {},
   "outputs": [
    {
     "name": "stdout",
     "output_type": "stream",
     "text": [
      "Invalid! Please enter a positive number.\n",
      "Invalid! Please enter a positive number.\n",
      "Invalid! Please enter a positive number.\n",
      "You entered 6.\n"
     ]
    }
   ],
   "source": [
    "while True: # This is a while loop in use that has a request from a user to enter a number that is positive. If the user gives something outside of that such as negative or 0 it will respond with the \"Invalid\" comment.\n",
    "        number = int(input(\"Enter a positive whole number?\")) # Here is the part that has the member enter their number of choice.\n",
    "        if number > 0:       \n",
    "                print(f\"You entered {number}.\") # If the memebr follows the question correctly they will see the number they entered with the statement within the () here.\n",
    "                break # A break is necessary so that the loop is not infinite. I found this out the hard way lol.\n",
    "        if number <= 0: \n",
    "         print(\"Invalid! Please enter a positive number.\") # The if statements ensure that the user uses a positive integer/whole number. Less than or equal to 0 will result an \"Invalid\" statement. \n",
    "        number"
   ]
  },
  {
   "cell_type": "markdown",
   "id": "690e45da",
   "metadata": {},
   "source": [
    "## Exercise 5: Count Even and Odd Numbers Using a `for` Loop\n",
    "Write a program that asks the user to enter **a sequence of numbers (separated by spaces)**. The program should count how many numbers are **even** and how many are **odd**.\n",
    "\n",
    "### Example Input:\n",
    "```\n",
    "Enter numbers: 10 15 22 33 40 57 60\n",
    "```\n",
    "### Example Output:\n",
    "```\n",
    "Even numbers: 4\n",
    "Odd numbers: 3\n",
    "```\n"
   ]
  },
  {
   "cell_type": "code",
   "execution_count": null,
   "id": "83dfeaae",
   "metadata": {},
   "outputs": [
    {
     "name": "stdout",
     "output_type": "stream",
     "text": [
      "Even numbers: 3\n",
      "Odd numbers: 5\n"
     ]
    }
   ],
   "source": [
    "def count_odd_even(): # This is to define the function for how the rest of the code block is to work \n",
    "    numbers = [] # this is to establish the request for a list of numbers or names, in this case its numbers.\n",
    "user_input =input(\"Enter a sequence of numbers seperated by spaces:\") # This string is to ensure that the user is putting in while numbers and seperating each by a space. The design it to allow the user to determine if 2 or X numbers are used to generate the list. \n",
    "numbers =[int(num) for num in user_input.split()] # A split is necessary so that the computer knows to identify each grouping of whole numbers are single digit, double digit or more due to the space inbetween them.\n",
    "even_count = 0\n",
    "odd_count = 0\n",
    "for num in numbers: # The for loop is generated to set the parameters/conditions for all the numbers to be divided by 2 will count as even or if unable to count as odd.  \n",
    "    if num %2 == 0: \n",
    "        even_count += 1  # The use of +=1 for both even and odd counts is to be able to tally a sum of each and then build a running total of all them for each group.\n",
    "    else:\n",
    "        odd_count += 1\n",
    "print(f\"Even numbers: {even_count}\")\n",
    "print(f\"Odd numbers: {odd_count}\") # The dual print function for each odd and even give the user an output of the total of each odd and even that is independent to the users numbers enter. "
   ]
  }
 ],
 "metadata": {
  "kernelspec": {
   "display_name": "Python 3",
   "language": "python",
   "name": "python3"
  },
  "language_info": {
   "codemirror_mode": {
    "name": "ipython",
    "version": 3
   },
   "file_extension": ".py",
   "mimetype": "text/x-python",
   "name": "python",
   "nbconvert_exporter": "python",
   "pygments_lexer": "ipython3",
   "version": "3.13.1"
  }
 },
 "nbformat": 4,
 "nbformat_minor": 5
}
