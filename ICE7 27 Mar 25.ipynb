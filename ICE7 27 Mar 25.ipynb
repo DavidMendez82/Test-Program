{
 "cells": [
  {
   "cell_type": "markdown",
   "id": "b2cfd4ce",
   "metadata": {},
   "source": [
    "# 🐍 ICE 7 – Working with Lists in Python\n",
    "\n",
    "In this in-class exercise, we'll explore the core functionality of **lists** in Python.\n",
    "You’ll practice:\n",
    "- Creating lists\n",
    "- Indexing and slicing\n",
    "- Using loops with lists\n",
    "- Applying list methods and built-in functions\n",
    "- Writing list comprehensions\n"
   ]
  },
  {
   "cell_type": "markdown",
   "id": "c94c047c",
   "metadata": {},
   "source": [
    "### Exercise 1: Creating and Printing Lists\n",
    "Create the following three lists:\n",
    "- A list of fruits: `\"apple\"`, `\"banana\"`, `\"cherry\"`\n",
    "- A list of numbers: `10, 20, 30, 40, 50`\n",
    "- A mixed list: `\"hello\"`, `3.14`, `42`, `True`\n",
    "\n",
    "Print each list using the `print()` function.\n"
   ]
  },
  {
   "cell_type": "code",
   "execution_count": 1,
   "id": "fa5a56e4",
   "metadata": {},
   "outputs": [
    {
     "name": "stdout",
     "output_type": "stream",
     "text": [
      "['apple', 'banana', 'cherry'] [10, 20, 30, 40, 50] ['hello', 3.14, 42, True]\n",
      "['apple', 'banana', 'cherry']\n",
      "[10, 20, 30, 40, 50]\n",
      "['hello', 3.14, 42, True]\n"
     ]
    }
   ],
   "source": [
    "list_1 = [\"apple\", \"banana\", \"cherry\"]\n",
    "list_2 = [10, 20, 30, 40, 50]\n",
    "list_3 = ['hello', 3.14, 42, True]\n",
    "print(list_1, list_2, list_3)\n",
    "print(list_1)\n",
    "print(list_2)\n",
    "print(list_3)"
   ]
  },
  {
   "cell_type": "markdown",
   "id": "388e6e4d",
   "metadata": {},
   "source": [
    "### Exercise 2: Indexing and Slicing\n",
    "Use indexing and slicing to:\n",
    "- Print the first fruit\n",
    "- Print the last number\n",
    "- Print a slice of the `numbers` list from the second to the fourth item\n"
   ]
  },
  {
   "cell_type": "code",
   "execution_count": 6,
   "id": "d0d85286",
   "metadata": {},
   "outputs": [
    {
     "name": "stdout",
     "output_type": "stream",
     "text": [
      "apple\n",
      "50\n",
      "[20, 30, 40]\n"
     ]
    }
   ],
   "source": [
    "print(list_1[0])\n",
    "print(list_2[-1])\n",
    "print(list_2[1:4])\n"
   ]
  },
  {
   "cell_type": "markdown",
   "id": "420b228e",
   "metadata": {},
   "source": [
    "### Exercise 3: Iterating Over a List\n",
    "Use a `for` loop to iterate over the `fruits` list and print each item on a new line.\n"
   ]
  },
  {
   "cell_type": "code",
   "execution_count": 7,
   "id": "0c7c9a0e",
   "metadata": {},
   "outputs": [
    {
     "name": "stdout",
     "output_type": "stream",
     "text": [
      "apple\n",
      "banana\n",
      "cherry\n"
     ]
    }
   ],
   "source": [
    "for item in list_1:\n",
    "    print (item)\n"
   ]
  },
  {
   "cell_type": "markdown",
   "id": "aeffe6bf",
   "metadata": {},
   "source": [
    "### Exercise 4: Using List Methods\n",
    "Modify the `fruits` list by:\n",
    "- Adding `\"orange\"` to the end of the list\n",
    "- Inserting `\"blueberry\"` at position 1\n",
    "- Removing `\"banana\"` from the list\n",
    "- Reversing the list\n",
    "- Sorting the list in ascending order\n",
    "\n",
    "Print the list after each operation to see the changes.\n"
   ]
  },
  {
   "cell_type": "code",
   "execution_count": 2,
   "id": "4369963f",
   "metadata": {},
   "outputs": [
    {
     "name": "stdout",
     "output_type": "stream",
     "text": [
      "['apple', 'banana', 'cherry', 'orange']\n"
     ]
    }
   ],
   "source": [
    "list_1.append(\"orange\")\n",
    "print(list_1)\n"
   ]
  },
  {
   "cell_type": "code",
   "execution_count": 3,
   "id": "fec5db7c",
   "metadata": {},
   "outputs": [
    {
     "name": "stdout",
     "output_type": "stream",
     "text": [
      "['blueberry', 'banana', 'cherry', 'orange']\n"
     ]
    }
   ],
   "source": [
    "list_1[0] = \"blueberry\"\n",
    "print(list_1)\n"
   ]
  },
  {
   "cell_type": "code",
   "execution_count": 4,
   "id": "35969242",
   "metadata": {},
   "outputs": [
    {
     "name": "stdout",
     "output_type": "stream",
     "text": [
      "['blueberry', 'cherry', 'orange']\n"
     ]
    }
   ],
   "source": [
    "del list_1[1]\n",
    "print(list_1)"
   ]
  },
  {
   "cell_type": "code",
   "execution_count": 5,
   "id": "0c68803f",
   "metadata": {},
   "outputs": [
    {
     "name": "stdout",
     "output_type": "stream",
     "text": [
      "[50, 40, 30, 20, 10]\n"
     ]
    }
   ],
   "source": [
    "list_2.reverse()\n",
    "print(list_2)\n"
   ]
  },
  {
   "cell_type": "markdown",
   "id": "80863192",
   "metadata": {},
   "source": [
    "### Exercise 5: Built-in Functions with Lists\n",
    "Use the following built-in functions with the `numbers` list:\n",
    "- `len()` to get the number of elements\n",
    "- `max()` to get the largest number\n",
    "- `min()` to get the smallest number\n",
    "- `sum()` to get the total of all numbers\n"
   ]
  },
  {
   "cell_type": "code",
   "execution_count": 6,
   "id": "789cbee4",
   "metadata": {},
   "outputs": [
    {
     "data": {
      "text/plain": [
       "5"
      ]
     },
     "execution_count": 6,
     "metadata": {},
     "output_type": "execute_result"
    }
   ],
   "source": [
    "len(list_2)"
   ]
  },
  {
   "cell_type": "code",
   "execution_count": 7,
   "id": "75b4534e",
   "metadata": {},
   "outputs": [
    {
     "data": {
      "text/plain": [
       "50"
      ]
     },
     "execution_count": 7,
     "metadata": {},
     "output_type": "execute_result"
    }
   ],
   "source": [
    "max(list_2)"
   ]
  },
  {
   "cell_type": "code",
   "execution_count": 8,
   "id": "08b0fc0e",
   "metadata": {},
   "outputs": [
    {
     "data": {
      "text/plain": [
       "10"
      ]
     },
     "execution_count": 8,
     "metadata": {},
     "output_type": "execute_result"
    }
   ],
   "source": [
    "min(list_2)"
   ]
  },
  {
   "cell_type": "code",
   "execution_count": 9,
   "id": "b9f1f333",
   "metadata": {},
   "outputs": [
    {
     "data": {
      "text/plain": [
       "150"
      ]
     },
     "execution_count": 9,
     "metadata": {},
     "output_type": "execute_result"
    }
   ],
   "source": [
    "sum(list_2)"
   ]
  },
  {
   "cell_type": "markdown",
   "id": "1e660786",
   "metadata": {},
   "source": [
    "### Exercise 6: List Comprehensions\n",
    "Create new lists using list comprehensions:\n",
    "- A list of squares of numbers from 1 to 5\n",
    "- A list of even numbers from the `numbers` list\n"
   ]
  },
  {
   "cell_type": "code",
   "execution_count": 10,
   "id": "ec7eca42",
   "metadata": {},
   "outputs": [
    {
     "data": {
      "text/plain": [
       "[1, 4, 9, 16, 25]"
      ]
     },
     "execution_count": 10,
     "metadata": {},
     "output_type": "execute_result"
    }
   ],
   "source": [
    "lst_1 = [1,2,3,4,5]\n",
    "lst_2 =[item**2 for item in lst_1]\n",
    "lst_2\n"
   ]
  },
  {
   "cell_type": "code",
   "execution_count": 11,
   "id": "48d795cd",
   "metadata": {},
   "outputs": [
    {
     "data": {
      "text/plain": [
       "[50, 40, 30, 20, 10]"
      ]
     },
     "execution_count": 11,
     "metadata": {},
     "output_type": "execute_result"
    }
   ],
   "source": [
    "list_2\n",
    "l_even = [item for item in list_2 if item % 2 == 0]\n",
    "l_even"
   ]
  },
  {
   "cell_type": "markdown",
   "id": "ab24c300",
   "metadata": {},
   "source": [
    "### Exercise 6: Plotting with matplotlib package\n",
    "Make 3 plots using matplotlib library:\n",
    "- Line plot\n",
    "- Bar plot\n",
    "- Pie chart\n"
   ]
  },
  {
   "cell_type": "code",
   "execution_count": 25,
   "id": "965d4009",
   "metadata": {},
   "outputs": [
    {
     "data": {
      "image/png": "[encoded data removed]",
      "text/plain": [
       "<Figure size 640x480 with 1 Axes>"
      ]
     },
     "metadata": {},
     "output_type": "display_data"
    }
   ],
   "source": [
    "import matplotlib.pyplot as plt\n",
    "\n",
    "x_coords = [0, 100, 200, 300, 400]\n",
    "y_coords = [400, 200, 100, 300, 0]\n",
    "plt.plot(x_coords,y_coords)\n",
    "plt.show()\n"
   ]
  },
  {
   "cell_type": "code",
   "execution_count": 23,
   "id": "d4fab678",
   "metadata": {},
   "outputs": [
    {
     "data": {
      "text/plain": [
       "<function matplotlib.pyplot.show(close=None, block=None)>"
      ]
     },
     "execution_count": 23,
     "metadata": {},
     "output_type": "execute_result"
    },
    {
     "data": {
      "image/png": "[encoded data removed]",
      "text/plain": [
       "<Figure size 640x480 with 1 Axes>"
      ]
     },
     "metadata": {},
     "output_type": "display_data"
    }
   ],
   "source": [
    "left_edges = [ 0, 100, 200, 300, 400]\n",
    "heights = [0, 100, 200, 300, 400]\n",
    "bar_width = 25\n",
    "plt.bar(left_edges, heights, bar_width)\n",
    "plt.show\n",
    "\n",
    "\n"
   ]
  },
  {
   "cell_type": "code",
   "execution_count": 24,
   "id": "ea0fb470",
   "metadata": {},
   "outputs": [
    {
     "data": {
      "text/plain": [
       "<function matplotlib.pyplot.show(close=None, block=None)>"
      ]
     },
     "execution_count": 24,
     "metadata": {},
     "output_type": "execute_result"
    },
    {
     "data": {
      "image/png": "[encoded data removed]",
      "text/plain": [
       "<Figure size 640x480 with 1 Axes>"
      ]
     },
     "metadata": {},
     "output_type": "display_data"
    }
   ],
   "source": [
    "values = [25, 15,10,40, 10]\n",
    "plt.pie(values)\n",
    "plt.show"
   ]
  }
 ],
 "metadata": {
  "kernelspec": {
   "display_name": "Python 3",
   "language": "python",
   "name": "python3"
  },
  "language_info": {
   "codemirror_mode": {
    "name": "ipython",
    "version": 3
   },
   "file_extension": ".py",
   "mimetype": "text/x-python",
   "name": "python",
   "nbconvert_exporter": "python",
   "pygments_lexer": "ipython3",
   "version": "3.13.1"
  }
 },
 "nbformat": 4,
 "nbformat_minor": 5
}
