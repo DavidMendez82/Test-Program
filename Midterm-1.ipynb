{
 "cells": [
  {
   "cell_type": "markdown",
   "id": "a4d31442",
   "metadata": {},
   "source": [
    "# 🐍 Midterm Exam Exercises\n",
    "\n",
    "This notebook contains the exercises you selected for the midterm. Each exercise includes:\n",
    "\n",
    "- A **Markdown cell** describing the problem, requirements, and sample I/O.\n",
    "- A **Code cell** where students can implement and test their solution.\n",
    "\n",
    "Good luck!"
   ]
  },
  {
   "cell_type": "markdown",
   "id": "4b6c7914",
   "metadata": {},
   "source": [
    "## Exercise 1 (10 points): Basic Input and Output\n",
    "\n",
    "**Instructions**:\n",
    "1. Write a program that asks the user for their **first name** and **last name**.\n",
    "2. The program should then **print their full name in uppercase**.\n",
    "\n",
    "**Example Input**:\n",
    "```\n",
    "Enter your first name: John\n",
    "Enter your last name: Doe\n",
    "```\n",
    "\n",
    "**Example Output**:\n",
    "```\n",
    "Your full name in uppercase: JOHN DOE\n",
    "```"
   ]
  },
  {
   "cell_type": "code",
   "execution_count": 32,
   "id": "51b6ef20",
   "metadata": {},
   "outputs": [
    {
     "name": "stdout",
     "output_type": "stream",
     "text": [
      "David MenDez\n"
     ]
    }
   ],
   "source": [
    "# upper()\n",
    "firstname= (input(\"What is your first name\"))\n",
    "lastname = (input(\"What is your last name\"))\n",
    "full_name= f\"{firstname}, {lastname}\"\n",
    "full_name.upper()\n",
    "print(firstname, lastname) # I know I need to add uppper or lower to the varable so that I can ensure all letters enters are moved to that request. I just didn't seem to put it in the right spot\n"
   ]
  },
  {
   "cell_type": "markdown",
   "id": "e8430e28",
   "metadata": {},
   "source": [
    "## Exercise 2 (20 points): Function for Salary Calculation\n",
    "\n",
    "**Instructions**:\n",
    "1. Define a function `calculate_salary()` that takes 2 arguments `hours_worked`, and `hourly_rate`, and calculates total salary.\n",
    "2. Return or print the total salary.\n",
    "\n",
    "_Formula example_:\n",
    "\n",
    "```\n",
    "total_salary = hours × hourly_rate\n",
    "```"
   ]
  },
  {
   "cell_type": "code",
   "execution_count": 17,
   "id": "e9713dbf",
   "metadata": {},
   "outputs": [
    {
     "name": "stdout",
     "output_type": "stream",
     "text": [
      "30.0\n"
     ]
    }
   ],
   "source": [
    " \n",
    "hours_worked= float(input(\"How many hours worked?\"))\n",
    "hourly_rate= float(input(\"what is your hourly wage?\"))\n",
    "calculate_salary= (hours_worked * hourly_rate)\n",
    "print(calculate_salary)"
   ]
  },
  {
   "cell_type": "code",
   "execution_count": null,
   "id": "412a1501",
   "metadata": {},
   "outputs": [],
   "source": [
    "def cal"
   ]
  },
  {
   "cell_type": "markdown",
   "id": "83986f37",
   "metadata": {},
   "source": [
    "## Exercise 3 (15 Points): If Statement – Leap Year Checker\n",
    "\n",
    "**Instructions**:\n",
    "1. Prompt the user to enter a year.\n",
    "2. Check if it is a leap year by applying the standard rules:\n",
    "   - If the year can be divided evenly by 4, it might be a leap year.\n",
    "   - But if the year can also be divided by 100, it is not a leap year (unless…).\n",
    "   - If the year can be divided by 400, then it is a leap year.\n",
    "3. Display “This is a leap year.” or “Not a leap year.” accordingly.\n",
    "\n",
    "**Examples**:\n",
    "```\n",
    "2024 → Divisible by 4 → Leap year \n",
    "1900 → Divisible by 4, but also by 100 → Not a leap year\n",
    "2000 → Divisible by 4, by 100, and by 400 → Leap year\n",
    "```"
   ]
  },
  {
   "cell_type": "code",
   "execution_count": null,
   "id": "9bfc9cb0",
   "metadata": {},
   "outputs": [],
   "source": [
    "# Sign % is used for division and return the remainder\n",
    "\n",
    "year=int(input(\"Please enter a year?\"))\n",
    "if (year % 4 == 0 and year % 100 != 0) or (year % 400 ==0 ): \n",
    "    print(\"Leap year\")\n",
    "elif (x/4) and (x/100):\n",
    "    print(\"Not a leap year\")\n",
    "elif (x/4) and (x/100) and (x/400):\n",
    "    print(\"Leap year\")\n",
    "\n",
    "# This will take the number and run throught the for loop to see if it is divisible by 4, 100, and 400 to determine if it is a leap year or not.\n",
    "\n"
   ]
  },
  {
   "cell_type": "markdown",
   "id": "5547e92a",
   "metadata": {},
   "source": [
    "## Exercise 4 (15 points): For Loop & String Processing\n",
    "\n",
    "**Instructions**:\n",
    "1. Write a function that takes a sentence (string) as input.\n",
    "2. Use a `for` loop to iterate through each character in the string.\n",
    "3. Count how many times the letter ‘a’ (uppercase **or** lowercase) appears.\n",
    "4. Print out the count.\n",
    "\n",
    "**Example Input**:\n",
    "```\n",
    "count_letter('An apple a day keeps the doctor away').\n",
    "```\n",
    "\n",
    "**Example Output**:\n",
    "```\n",
    "The letter 'a' appears 6 times.\n",
    "```"
   ]
  },
  {
   "cell_type": "code",
   "execution_count": 34,
   "id": "57c6eca2",
   "metadata": {},
   "outputs": [],
   "source": [
    "# I know I need to creat a varible that will return each variable and gather the sum of all A, and a. This will be added to total for an print output that would generate a request of how many appear in the input from the user to whatever statement is made.\n",
    "def count_letter(sentence):\n",
    "    count = 0\n",
    "    for char in sentence:\n",
    "        if char == 'a' or 'A':\n",
    "            count +=1\n"
   ]
  },
  {
   "cell_type": "markdown",
   "id": "4bb97b2e",
   "metadata": {},
   "source": [
    "## Exercise 5 (25 Points): While Loop – Guess the Random Number\n",
    "\n",
    "**Instructions**:\n",
    "1. Use Python’s `random` module to generate a secret random integer, say in the range 1 to 50.\n",
    "2. Prompt the user to guess the number.\n",
    "3. In a loop:\n",
    "   - If the guess higher than the actual number, say \"Too high! Guess again.\".\n",
    "   - If the guess is lower, say \"Too low! Guess again.\".\n",
    "   - If the guess is correct, print \"Correct!\" and break out of the loop.\n",
    "4. *(Optional)* Count how many guesses they made, and display it at the end.\n",
    "\n",
    "**Example Flow**:\n",
    "```\n",
    "I'm thinking of a number between 1 and 50...\n",
    "Enter your guess: 25\n",
    "Too low. Try again.\n",
    "Enter your guess: 40\n",
    "Too high. Try again.\n",
    "Enter your guess: 32\n",
    "Too low. Try again.\n",
    "Enter your guess: 36\n",
    "Correct! You guessed it in 4 tries.\n",
    "```"
   ]
  },
  {
   "cell_type": "code",
   "execution_count": null,
   "id": "07bb4ead",
   "metadata": {},
   "outputs": [],
   "source": [
    "import random\n",
    "# heere you want to use function random.randint(x,y)\n",
    "int(random.randit)(input(\"Please guess a number between 1,50\"))\n",
    "x= sum\n",
    "if random > input:\n",
    "    print(\"Too low. try again\")\n",
    "elif random < input:\n",
    "    print(\"Too high. Try again\")\n",
    "random = input\n",
    "print(\"Correct! You guess it in x tries\")\n",
    "# This needs to be cleaned up so that the random generates a randomized number each time differently and then has the imput from the person validating if it is higher , lower, or equal to. Then takes the sum of the number of attempts and prints that out."
   ]
  },
  {
   "cell_type": "code",
   "execution_count": null,
   "id": "e699c6b5",
   "metadata": {},
   "outputs": [],
   "source": []
  },
  {
   "cell_type": "code",
   "execution_count": null,
   "id": "8b2d6a2b",
   "metadata": {},
   "outputs": [
    {
     "name": "stdout",
     "output_type": "stream",
     "text": [
      "Too low\n",
      "Too low\n",
      "Too low\n",
      "Too low\n",
      "too high\n",
      "Too low\n",
      "Correct!\n"
     ]
    },
    {
     "ename": "ValueError",
     "evalue": "invalid literal for int() with base 10: ''",
     "output_type": "error",
     "traceback": [
      "\u001b[1;31m---------------------------------------------------------------------------\u001b[0m",
      "\u001b[1;31mValueError\u001b[0m                                Traceback (most recent call last)",
      "Cell \u001b[1;32mIn[35], line 4\u001b[0m\n\u001b[0;32m      2\u001b[0m attempts \u001b[38;5;241m=\u001b[39m \u001b[38;5;241m0\u001b[39m\n\u001b[0;32m      3\u001b[0m \u001b[38;5;28;01mwhile\u001b[39;00m \u001b[38;5;28;01mTrue\u001b[39;00m:\n\u001b[1;32m----> 4\u001b[0m     guess \u001b[38;5;241m=\u001b[39m \u001b[38;5;28;43mint\u001b[39;49m\u001b[43m(\u001b[49m\u001b[38;5;28;43minput\u001b[39;49m\u001b[43m(\u001b[49m\u001b[38;5;124;43m\"\u001b[39;49m\u001b[38;5;124;43menter yout numbder\u001b[39;49m\u001b[38;5;124;43m\"\u001b[39;49m\u001b[43m)\u001b[49m\u001b[43m)\u001b[49m\n\u001b[0;32m      5\u001b[0m     attempt \u001b[38;5;241m=\u001b[39m \u001b[38;5;241m1\u001b[39m\n\u001b[0;32m      6\u001b[0m     \u001b[38;5;28;01mif\u001b[39;00m guess \u001b[38;5;241m>\u001b[39m secret_number:\n",
      "\u001b[1;31mValueError\u001b[0m: invalid literal for int() with base 10: ''"
     ]
    },
    {
     "ename": "",
     "evalue": "",
     "output_type": "error",
     "traceback": [
      "\u001b[1;31mThe Kernel crashed while executing code in the current cell or a previous cell. \n",
      "\u001b[1;31mPlease review the code in the cell(s) to identify a possible cause of the failure. \n",
      "\u001b[1;31mClick <a href='https://aka.ms/vscodeJupyterKernelCrash'>here</a> for more info. \n",
      "\u001b[1;31mView Jupyter <a href='command:jupyter.viewOutput'>log</a> for further details."
     ]
    }
   ],
   "source": [
    "secret_number = random.randint(1,50)\n",
    "attempts = 0\n",
    "while True:\n",
    "    guess = int(input(\"enter your number\"))\n",
    "    attempt = 1\n",
    "    if guess > secret_number:\n",
    "        print(\"too high\")\n",
    "    elif guess < secret_number:\n",
    "        print('Too low')\n",
    "    else:\n",
    "        print('Correct!') \n",
    "        # He wrote break here for something.       "
   ]
  },
  {
   "cell_type": "markdown",
   "id": "bf03d83c",
   "metadata": {},
   "source": [
    "## Exercise 6 (15 points): String Manipulation – Generate Login\n",
    "\n",
    "**Instructions**:\n",
    "1. Write a function `generate_login(first_name, last_name, student_id)` that:\n",
    "   - Takes the first **3 characters** of `first_name` (or the entire name if it’s shorter than 3 letters).\n",
    "   - Takes the first **3 characters** of `last_name` (or the entire name if it’s shorter than 3 letters).\n",
    "   - Takes the **last 3 characters** of `student_id`.\n",
    "   - Concatenates these parts into a single string.\n",
    "\n",
    "**Example Input**:\n",
    "```\n",
    "Enter first name: Amanda\n",
    "Enter last name: Spencer\n",
    "Enter student ID: ENG6721\n",
    "```\n",
    "\n",
    "**Example Output**:\n",
    "```\n",
    "Generated login: AmaSpe721\n",
    "```"
   ]
  },
  {
   "cell_type": "code",
   "execution_count": null,
   "id": "b9db08ac",
   "metadata": {},
   "outputs": [],
   "source": [
    "generate_login: (first_name, last_name, student_id) # I need to get the variable to read the first 3 letters of the first name and last name. I also need to get the last 3 numbers from the student ID. Then I would creat a function that would incorporate each one of these variables requested and combine them to creat a login name showing those 9 specific letters and numbers for each individual login. This can be done with more time and experience.\n",
    "first_name= input(\"write first name\")\n",
    "last_name= input(\"write last name\")\n",
    "student_id= int(\"write student_id\")\n",
    "print (generate_login)"
   ]
  },
  {
   "cell_type": "code",
   "execution_count": null,
   "id": "7ca460f4",
   "metadata": {},
   "outputs": [],
   "source": [
    "def generate_login: (first_name, last_name, student_id) # I need to get the variable to read the first 3 letters of the first name and last name. I also need to get the last 3 numbers from the student ID. Then I would creat a function that would incorporate each one of these variables requested and combine them to creat a login name showing those 9 specific letters and numbers for each individual login. This can be done with more time and experience.\n",
    "first_name= input(\"write first name\")\n",
    "last_name= input(\"write last name\")\n",
    "student_id= int(\"write student_id\")\n",
    "print (generate_login)"
   ]
  },
  {
   "cell_type": "code",
   "execution_count": null,
   "id": "22992ca7",
   "metadata": {},
   "outputs": [
    {
     "name": "stdout",
     "output_type": "stream",
     "text": [
      "[1, 10, 3, 4, 5, 6, 5, 5, 4]\n"
     ]
    }
   ],
   "source": [
    "#NOTes from here down. \n",
    "list = [1,2,3,4,5,6,5,5,4]\n",
    "\n",
    "list[1] =10\n",
    "print (list)\n",
    "#len (list)"
   ]
  },
  {
   "cell_type": "code",
   "execution_count": 2,
   "id": "624f4ef8",
   "metadata": {},
   "outputs": [
    {
     "ename": "NameError",
     "evalue": "name 'start' is not defined",
     "output_type": "error",
     "traceback": [
      "\u001b[1;31m---------------------------------------------------------------------------\u001b[0m",
      "\u001b[1;31mNameError\u001b[0m                                 Traceback (most recent call last)",
      "Cell \u001b[1;32mIn[2], line 1\u001b[0m\n\u001b[1;32m----> 1\u001b[0m \u001b[38;5;28mlist\u001b[39m [\u001b[43mstart\u001b[49m : end]\n\u001b[0;32m      2\u001b[0m \u001b[38;5;28mlist\u001b[39m [start : \u001b[38;5;28mlen\u001b[39m(\u001b[38;5;28mlist\u001b[39m)]\n",
      "\u001b[1;31mNameError\u001b[0m: name 'start' is not defined"
     ]
    }
   ],
   "source": [
    "list [start : end]\n",
    "list [start : len(list)]\n",
    "\n"
   ]
  },
  {
   "cell_type": "code",
   "execution_count": null,
   "id": "c2b62db0",
   "metadata": {},
   "outputs": [],
   "source": [
    "# use of append\n",
    "l=[]\n",
    "l.append(10)"
   ]
  },
  {
   "cell_type": "code",
   "execution_count": 4,
   "id": "97b628a3",
   "metadata": {},
   "outputs": [
    {
     "data": {
      "text/plain": [
       "[10]"
      ]
     },
     "execution_count": 4,
     "metadata": {},
     "output_type": "execute_result"
    }
   ],
   "source": [
    "l\n"
   ]
  },
  {
   "cell_type": "code",
   "execution_count": 11,
   "id": "8237e1f0",
   "metadata": {},
   "outputs": [],
   "source": [
    "# copy a list has 2 options \n",
    "l2=[]\n",
    "l1= [3,2,5]\n",
    "for item in l1:\n",
    "    l2.append(l1)\n"
   ]
  },
  {
   "cell_type": "code",
   "execution_count": 12,
   "id": "147bf5ef",
   "metadata": {},
   "outputs": [
    {
     "data": {
      "text/plain": [
       "[[3, 2, 5], [3, 2, 5], [3, 2, 5]]"
      ]
     },
     "execution_count": 12,
     "metadata": {},
     "output_type": "execute_result"
    }
   ],
   "source": [
    "l2"
   ]
  },
  {
   "cell_type": "code",
   "execution_count": 17,
   "id": "35c13080",
   "metadata": {},
   "outputs": [],
   "source": [
    "l2=[]\n",
    "l1= [3,2,5,2]\n",
    "count = 0\n",
    "count += item in l1\n",
    "first = 0+3\n",
    "second = 3+2\n",
    "third = 5+5\n",
    "calculate= sum(l1) \n",
    " "
   ]
  },
  {
   "cell_type": "code",
   "execution_count": 18,
   "id": "e8890e0b",
   "metadata": {},
   "outputs": [
    {
     "data": {
      "text/plain": [
       "12"
      ]
     },
     "execution_count": 18,
     "metadata": {},
     "output_type": "execute_result"
    }
   ],
   "source": [
    "calculate\n"
   ]
  },
  {
   "cell_type": "code",
   "execution_count": null,
   "id": "7c4a360b",
   "metadata": {},
   "outputs": [],
   "source": [
    "# how to creat a list add it together and frind the average of it\n",
    "list= [1,2,4,6,7,20]\n",
    "sum = 0\n",
    "for item in  list:\n",
    "    sum += item\n",
    "average= sum/len(list)"
   ]
  },
  {
   "cell_type": "code",
   "execution_count": 24,
   "id": "646e4499",
   "metadata": {},
   "outputs": [
    {
     "data": {
      "text/plain": [
       "6.666666666666667"
      ]
     },
     "execution_count": 24,
     "metadata": {},
     "output_type": "execute_result"
    }
   ],
   "source": [
    "average"
   ]
  },
  {
   "cell_type": "code",
   "execution_count": null,
   "id": "61a7dcd3",
   "metadata": {},
   "outputs": [],
   "source": [
    "# This is another way of doing the same thing as above for adding the summ and taking the average.\n",
    "def list_average(list):\n",
    "    for item in list:\n",
    "        sum += 0\n",
    "    average= sum/len(list)\n",
    "    return average"
   ]
  },
  {
   "cell_type": "code",
   "execution_count": 25,
   "id": "beff4326",
   "metadata": {},
   "outputs": [
    {
     "data": {
      "text/plain": [
       "6.666666666666667"
      ]
     },
     "execution_count": 25,
     "metadata": {},
     "output_type": "execute_result"
    }
   ],
   "source": [
    "average"
   ]
  },
  {
   "cell_type": "code",
   "execution_count": 34,
   "id": "e19527f8",
   "metadata": {},
   "outputs": [
    {
     "name": "stdout",
     "output_type": "stream",
     "text": [
      "[1, 2, 3, 4] [1, 4, 9, 16]\n"
     ]
    }
   ],
   "source": [
    "list1= [1,2,3,4]\n",
    "list2= [item**2 for item in list1]\n",
    "print(list1,list2)"
   ]
  },
  {
   "cell_type": "code",
   "execution_count": 28,
   "id": "c5f5c58a",
   "metadata": {},
   "outputs": [
    {
     "data": {
      "text/plain": [
       "[1, 4, 9, 16]"
      ]
     },
     "execution_count": 28,
     "metadata": {},
     "output_type": "execute_result"
    }
   ],
   "source": [
    "list2"
   ]
  },
  {
   "cell_type": "code",
   "execution_count": 1,
   "id": "2cc08df2",
   "metadata": {},
   "outputs": [],
   "source": [
    "import matplotlib as plt\n",
    "\n",
    "\n",
    "\n"
   ]
  },
  {
   "cell_type": "code",
   "execution_count": null,
   "id": "3e5ecc49",
   "metadata": {},
   "outputs": [
    {
     "data": {
      "image/png": "[encoded data removed]",
      "text/plain": [
       "<Figure size 640x480 with 1 Axes>"
      ]
     },
     "metadata": {},
     "output_type": "display_data"
    }
   ],
   "source": [
    "# This is how to build a chart in here\n",
    "import matplotlib.pyplot as plt\n",
    "\n",
    "x_coords = [0,1,2,3,4]\n",
    "y_coords = [0,3,1,5,2]\n",
    "plt.plot(x_coords, y_coords)\n",
    "plt.title('Sales by Year')\n",
    "plt.xlabel('Year')\n",
    "plt.ylabel('Sale')\n",
    "plt.show()"
   ]
  },
  {
   "cell_type": "code",
   "execution_count": 5,
   "id": "89e8ede2",
   "metadata": {},
   "outputs": [
    {
     "data": {
      "image/png": "[encoded data removed]",
      "text/plain": [
       "<Figure size 640x480 with 1 Axes>"
      ]
     },
     "metadata": {},
     "output_type": "display_data"
    }
   ],
   "source": [
    "left_edges= [0,10,20,30,40]\n",
    "heights = [100, 200, 300, 400, 500]\n",
    "\n",
    "plt.bar(left_edges, heights)\n",
    "plt.show()"
   ]
  },
  {
   "cell_type": "code",
   "execution_count": null,
   "id": "335669cb",
   "metadata": {},
   "outputs": [],
   "source": [
    "# Still need to practice pie chart at home."
   ]
  }
 ],
 "metadata": {
  "colab": {
   "name": "MidtermExercises.ipynb",
   "provenance": []
  },
  "kernelspec": {
   "display_name": "Python 3",
   "language": "python",
   "name": "python3"
  },
  "language_info": {
   "codemirror_mode": {
    "name": "ipython",
    "version": 3
   },
   "file_extension": ".py",
   "mimetype": "text/x-python",
   "name": "python",
   "nbconvert_exporter": "python",
   "pygments_lexer": "ipython3",
   "version": "3.13.1"
  }
 },
 "nbformat": 4,
 "nbformat_minor": 5
}
