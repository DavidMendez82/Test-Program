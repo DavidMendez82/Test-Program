{
 "cells": [
  {
   "cell_type": "markdown",
   "metadata": {},
   "source": [
    "# 🐍 ICE 9: Error Handling with `try / except`"
   ]
  },
  {
   "cell_type": "markdown",
   "metadata": {},
   "source": [
    "## Exercise 1\n",
    "\n",
    "**Task:**\n",
    "- Assume you have a predefined list of fruits: [\"apple\", \"banana\",\n",
    "\"cherry\"].\n",
    "- Your task is to write a program that asks the user to enter the index\n",
    "number of the fruit they want, such as 0 for \"apple\", 1 for \"banana\", or\n",
    "2 for \"cherry\".\n",
    "- The program should then print the name of the fruit at the chosen\n",
    "index.\n",
    "- To make the program more robust, you should use a `try/except` block\n",
    "to handle possible errors.\n",
    "- Specifically, you need to handle the case when the user enters\n",
    "something that is not a number (which would cause a `ValueError`)\n",
    "and when the user enters a number that is outside the valid range of\n",
    "indices for the list (which would cause an `IndexError`).\n",
    "- The program should print a friendly error message in both cases\n",
    "without crashing."
   ]
  },
  {
   "cell_type": "code",
   "execution_count": 1,
   "metadata": {},
   "outputs": [
    {
     "name": "stdout",
     "output_type": "stream",
     "text": [
      "You selected: apple\n"
     ]
    }
   ],
   "source": [
    "fruits = [\"apple\", \"banana\", \"cherry\"]\n",
    "\n",
    "def get_fruit_by_index():\n",
    "    try:\n",
    "        index = int(input(\"Enter the index number of the fruit you want (0 for apple, 1 for banana, 2 for cherry): \"))\n",
    "        print(f\"You selected: {fruits[index]}\")\n",
    "    \n",
    "    except ValueError:\n",
    "        print(\"Invalid input! Please enter a valid number.\")\n",
    "    \n",
    "    except IndexError:\n",
    "        print(\"Index out of range! Please enter a number between 0 and 2.\")\n",
    "\n",
    "get_fruit_by_index()"
   ]
  },
  {
   "cell_type": "markdown",
   "metadata": {},
   "source": [
    "## Exercise 2\n",
    "\n",
    "**Task:**\n",
    "Implement function `calculator_division()` that divides 2 numbers with `try/except` for a) handling error when user enters something that’s not a number (`ValueError`) and b) when user tries to divide by zero (`ZeroDivisionError`).\n"
   ]
  },
  {
   "cell_type": "code",
   "execution_count": 2,
   "metadata": {},
   "outputs": [
    {
     "name": "stdout",
     "output_type": "stream",
     "text": [
      "15.0/3.0 is: 5.0\n"
     ]
    }
   ],
   "source": [
    "def calculator_division():\n",
    "    try:\n",
    "        num1 = float(input(\"Enter the first number: \"))\n",
    "        num2 = float(input(\"Enter the second number: \"))\n",
    "        result = num1 / num2\n",
    "    except ValueError:\n",
    "        print(\"Error: Please enter valid numbers.\")\n",
    "    except ZeroDivisionError:\n",
    "        print(\"Error: Cannot divide by zero.\")\n",
    "    else:\n",
    "        print(f\"{num1}/{num2} is: {result}\")\n",
    "\n",
    "calculator_division()"
   ]
  }
 ],
 "metadata": {
  "kernelspec": {
   "display_name": "Python 3",
   "language": "python",
   "name": "python3"
  },
  "language_info": {
   "codemirror_mode": {
    "name": "ipython",
    "version": 3
   },
   "file_extension": ".py",
   "mimetype": "text/x-python",
   "name": "python",
   "nbconvert_exporter": "python",
   "pygments_lexer": "ipython3",
   "version": "3.13.1"
  }
 },
 "nbformat": 4,
 "nbformat_minor": 2
}
